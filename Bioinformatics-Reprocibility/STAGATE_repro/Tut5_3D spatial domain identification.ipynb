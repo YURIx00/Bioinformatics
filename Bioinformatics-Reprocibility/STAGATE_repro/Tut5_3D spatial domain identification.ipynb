{
 "cells": [
  {
   "cell_type": "markdown",
   "source": [
    "# Preparation"
   ],
   "metadata": {
    "collapsed": false
   },
   "id": "8fff2b177c256d0b"
  },
  {
   "cell_type": "code",
   "execution_count": 1,
   "id": "initial_id",
   "metadata": {
    "collapsed": true,
    "ExecuteTime": {
     "end_time": "2023-10-23T05:49:00.585279900Z",
     "start_time": "2023-10-23T05:49:00.584279700Z"
    }
   },
   "outputs": [],
   "source": [
    "import warnings\n",
    "warnings.filterwarnings(\"ignore\")"
   ]
  },
  {
   "cell_type": "code",
   "execution_count": 2,
   "outputs": [],
   "source": [
    "import pandas as pd\n",
    "import numpy as np\n",
    "import scanpy as sc\n",
    "import matplotlib.pyplot as plt\n",
    "import os\n",
    "import sys"
   ],
   "metadata": {
    "collapsed": false,
    "ExecuteTime": {
     "end_time": "2023-10-23T05:49:00.968487500Z",
     "start_time": "2023-10-23T05:49:00.584279700Z"
    }
   },
   "id": "847ab4ac3f05e285"
  },
  {
   "cell_type": "code",
   "execution_count": 3,
   "outputs": [],
   "source": [
    "import STAGATE"
   ],
   "metadata": {
    "collapsed": false,
    "ExecuteTime": {
     "end_time": "2023-10-23T05:49:01.746197400Z",
     "start_time": "2023-10-23T05:49:00.968487500Z"
    }
   },
   "id": "5d0b6b419cfe2183"
  },
  {
   "cell_type": "code",
   "execution_count": 4,
   "outputs": [],
   "source": [
    "os.environ[\"CUDA_DEVICE_ORDER\"] = \"PCI_BUS_ID\"\n",
    "os.environ[\"CUDA_VISIBLE_DEVICES\"] = \"8\""
   ],
   "metadata": {
    "collapsed": false,
    "ExecuteTime": {
     "end_time": "2023-10-23T05:49:01.760758800Z",
     "start_time": "2023-10-23T05:49:01.747715200Z"
    }
   },
   "id": "bbbabb27181319bd"
  },
  {
   "cell_type": "code",
   "execution_count": 5,
   "outputs": [],
   "source": [
    "input_dir = '/home/zbdc/github/Data/3D_Hippo/'\n",
    "data = pd.read_csv(input_dir + '3D_Hippo_expression.txt', sep='\\t', index_col=0)\n",
    "Aligned_coor = pd.read_csv(input_dir + 'ICP_Align_Coor.txt', sep='\\t', index_col=0)"
   ],
   "metadata": {
    "collapsed": false,
    "ExecuteTime": {
     "end_time": "2023-10-23T05:49:30.440133800Z",
     "start_time": "2023-10-23T05:49:01.753724700Z"
    }
   },
   "id": "29b51053eeb0cec2"
  },
  {
   "cell_type": "code",
   "execution_count": 6,
   "outputs": [
    {
     "data": {
      "text/plain": "                            X            Y     Z         Section\nAAAAACAACCAAT-13  3946.072727  3599.436364  6000  Puck_180531_13\nAAAAGTCCATTAT-13  2401.628788  3550.333333  6000  Puck_180531_13\nAAACAACGCGCGA-13  2921.968153  3353.687898  6000  Puck_180531_13\nAAACAATTCAATA-13  2711.556338  3365.542254  6000  Puck_180531_13\nAAACACGCTGCCC-13  2351.863354  4265.447205  6000  Puck_180531_13",
      "text/html": "<div>\n<style scoped>\n    .dataframe tbody tr th:only-of-type {\n        vertical-align: middle;\n    }\n\n    .dataframe tbody tr th {\n        vertical-align: top;\n    }\n\n    .dataframe thead th {\n        text-align: right;\n    }\n</style>\n<table border=\"1\" class=\"dataframe\">\n  <thead>\n    <tr style=\"text-align: right;\">\n      <th></th>\n      <th>X</th>\n      <th>Y</th>\n      <th>Z</th>\n      <th>Section</th>\n    </tr>\n  </thead>\n  <tbody>\n    <tr>\n      <th>AAAAACAACCAAT-13</th>\n      <td>3946.072727</td>\n      <td>3599.436364</td>\n      <td>6000</td>\n      <td>Puck_180531_13</td>\n    </tr>\n    <tr>\n      <th>AAAAGTCCATTAT-13</th>\n      <td>2401.628788</td>\n      <td>3550.333333</td>\n      <td>6000</td>\n      <td>Puck_180531_13</td>\n    </tr>\n    <tr>\n      <th>AAACAACGCGCGA-13</th>\n      <td>2921.968153</td>\n      <td>3353.687898</td>\n      <td>6000</td>\n      <td>Puck_180531_13</td>\n    </tr>\n    <tr>\n      <th>AAACAATTCAATA-13</th>\n      <td>2711.556338</td>\n      <td>3365.542254</td>\n      <td>6000</td>\n      <td>Puck_180531_13</td>\n    </tr>\n    <tr>\n      <th>AAACACGCTGCCC-13</th>\n      <td>2351.863354</td>\n      <td>4265.447205</td>\n      <td>6000</td>\n      <td>Puck_180531_13</td>\n    </tr>\n  </tbody>\n</table>\n</div>"
     },
     "execution_count": 6,
     "metadata": {},
     "output_type": "execute_result"
    }
   ],
   "source": [
    "Aligned_coor.head()"
   ],
   "metadata": {
    "collapsed": false,
    "ExecuteTime": {
     "end_time": "2023-10-23T05:49:30.487960800Z",
     "start_time": "2023-10-23T05:49:30.481965400Z"
    }
   },
   "id": "509f7d710524e736"
  },
  {
   "cell_type": "code",
   "execution_count": 7,
   "outputs": [
    {
     "data": {
      "text/plain": "AnnData object with n_obs × n_vars = 10908 × 9420"
     },
     "execution_count": 7,
     "metadata": {},
     "output_type": "execute_result"
    }
   ],
   "source": [
    "adata = sc.AnnData(data)\n",
    "adata"
   ],
   "metadata": {
    "collapsed": false,
    "ExecuteTime": {
     "end_time": "2023-10-23T05:49:30.631328500Z",
     "start_time": "2023-10-23T05:49:30.482961500Z"
    }
   },
   "id": "9936c5c2963d172a"
  },
  {
   "cell_type": "code",
   "execution_count": 8,
   "outputs": [],
   "source": [
    "#Normalization\n",
    "sc.pp.highly_variable_genes(adata, flavor=\"seurat_v3\", n_top_genes=3000)\n",
    "sc.pp.normalize_total(adata, target_sum=1e4)\n",
    "sc.pp.log1p(adata)"
   ],
   "metadata": {
    "collapsed": false,
    "ExecuteTime": {
     "end_time": "2023-10-23T05:49:33.935765300Z",
     "start_time": "2023-10-23T05:49:30.615269400Z"
    }
   },
   "id": "6cd66adc3aef169a"
  },
  {
   "cell_type": "code",
   "execution_count": 9,
   "outputs": [],
   "source": [
    "# loading metadata and aligned coordinates\n",
    "adata.obs['X'] = Aligned_coor.loc[adata.obs_names, 'X']\n",
    "adata.obs['Y'] = Aligned_coor.loc[adata.obs_names, 'Y']\n",
    "adata.obs['Z'] = Aligned_coor.loc[adata.obs_names, 'Z']\n",
    "adata.obs['Section_id'] = Aligned_coor.loc[adata.obs_names, 'Section']"
   ],
   "metadata": {
    "collapsed": false,
    "ExecuteTime": {
     "end_time": "2023-10-23T05:49:33.954372200Z",
     "start_time": "2023-10-23T05:49:33.940039200Z"
    }
   },
   "id": "50308fdc21e2aa9f"
  },
  {
   "cell_type": "code",
   "execution_count": 10,
   "outputs": [],
   "source": [
    "# loading the spatial locations\n",
    "adata.obsm['spatial'] = adata.obs.loc[:, ['X', 'Y']].values"
   ],
   "metadata": {
    "collapsed": false,
    "ExecuteTime": {
     "end_time": "2023-10-23T05:49:33.969467700Z",
     "start_time": "2023-10-23T05:49:33.950549600Z"
    }
   },
   "id": "ad8e0d8ef58a6621"
  },
  {
   "cell_type": "code",
   "execution_count": 11,
   "outputs": [],
   "source": [
    "section_colors = ['#02899A', '#0E994D', '#86C049', '#FBB21F', '#F48022', '#DA5326', '#BA3326']"
   ],
   "metadata": {
    "collapsed": false,
    "ExecuteTime": {
     "end_time": "2023-10-23T05:49:33.970467900Z",
     "start_time": "2023-10-23T05:49:33.961423500Z"
    }
   },
   "id": "4c11f641b8171124"
  },
  {
   "cell_type": "code",
   "execution_count": 12,
   "outputs": [
    {
     "data": {
      "text/plain": "<Figure size 400x400 with 1 Axes>",
      "image/png": "[encoded data removed]"
     },
     "metadata": {},
     "output_type": "display_data"
    }
   ],
   "source": [
    "ig = plt.figure(figsize=(4, 4))\n",
    "ax1 = plt.axes(projection='3d')\n",
    "for it, label in enumerate(np.unique(adata.obs['Section_id'])):\n",
    "    temp_Coor = adata.obs.loc[adata.obs['Section_id']==label, :]\n",
    "    temp_xd = temp_Coor['X']\n",
    "    temp_yd = temp_Coor['Y']\n",
    "    temp_zd = temp_Coor['Z']\n",
    "    ax1.scatter3D(temp_xd, temp_yd, temp_zd, c=section_colors[it],s=0.2, marker=\"o\", label=label)\n",
    "\n",
    "ax1.set_xlabel('')\n",
    "ax1.set_ylabel('')\n",
    "ax1.set_zlabel('')\n",
    "\n",
    "ax1.set_xticklabels([])\n",
    "ax1.set_yticklabels([])\n",
    "ax1.set_zticklabels([])\n",
    "\n",
    "plt.legend(bbox_to_anchor=(1,0.8), markerscale=10, frameon=False)\n",
    "\n",
    "ax1.elev = 45\n",
    "ax1.azim = -20\n",
    "\n",
    "plt.show()"
   ],
   "metadata": {
    "collapsed": false,
    "ExecuteTime": {
     "end_time": "2023-10-23T05:49:34.338312900Z",
     "start_time": "2023-10-23T05:49:33.965425Z"
    }
   },
   "id": "d2722dc3323b462f"
  },
  {
   "cell_type": "markdown",
   "source": [
    "# Constructing 3D spatial networks"
   ],
   "metadata": {
    "collapsed": false
   },
   "id": "afbf82878c86090a"
  },
  {
   "cell_type": "code",
   "execution_count": 13,
   "outputs": [],
   "source": [
    "section_order = ['Puck_180531_13', 'Puck_180531_16', 'Puck_180531_17',\n",
    "                 'Puck_180531_18', 'Puck_180531_19', 'Puck_180531_22',\n",
    "                 'Puck_180531_23']"
   ],
   "metadata": {
    "collapsed": false,
    "ExecuteTime": {
     "end_time": "2023-10-23T05:49:34.339321500Z",
     "start_time": "2023-10-23T05:49:34.336791700Z"
    }
   },
   "id": "1dc0e59b4c4a08e7"
  },
  {
   "cell_type": "code",
   "execution_count": 14,
   "outputs": [
    {
     "name": "stdout",
     "output_type": "stream",
     "text": [
      "Radius used for 2D SNN: 50\n",
      "Radius used for SNN between sections: 50\n",
      "------Calculating 2D SNN of section  Puck_180531_13\n",
      "This graph contains 22974 edges, 1692 cells.\n",
      "13.5780 neighbors per cell on average.\n",
      "------Calculating 2D SNN of section  Puck_180531_16\n",
      "This graph contains 20546 edges, 1476 cells.\n",
      "13.9201 neighbors per cell on average.\n",
      "------Calculating 2D SNN of section  Puck_180531_17\n",
      "This graph contains 11794 edges, 1138 cells.\n",
      "10.3638 neighbors per cell on average.\n",
      "------Calculating 2D SNN of section  Puck_180531_18\n",
      "This graph contains 18278 edges, 1363 cells.\n",
      "13.4101 neighbors per cell on average.\n",
      "------Calculating 2D SNN of section  Puck_180531_19\n",
      "This graph contains 22344 edges, 1788 cells.\n",
      "12.4966 neighbors per cell on average.\n",
      "------Calculating 2D SNN of section  Puck_180531_22\n",
      "This graph contains 24544 edges, 1835 cells.\n",
      "13.3755 neighbors per cell on average.\n",
      "------Calculating 2D SNN of section  Puck_180531_23\n",
      "This graph contains 18922 edges, 1616 cells.\n",
      "11.7092 neighbors per cell on average.\n",
      "------Calculating SNN between adjacent section Puck_180531_13 and Puck_180531_16.\n",
      "This graph contains 34482 edges, 3168 cells.\n",
      "10.8845 neighbors per cell on average.\n",
      "------Calculating SNN between adjacent section Puck_180531_16 and Puck_180531_17.\n",
      "This graph contains 23078 edges, 2614 cells.\n",
      "8.8286 neighbors per cell on average.\n",
      "------Calculating SNN between adjacent section Puck_180531_17 and Puck_180531_18.\n",
      "This graph contains 25284 edges, 2501 cells.\n",
      "10.1096 neighbors per cell on average.\n",
      "------Calculating SNN between adjacent section Puck_180531_18 and Puck_180531_19.\n",
      "This graph contains 24944 edges, 3151 cells.\n",
      "7.9162 neighbors per cell on average.\n",
      "------Calculating SNN between adjacent section Puck_180531_19 and Puck_180531_22.\n",
      "This graph contains 26128 edges, 3623 cells.\n",
      "7.2117 neighbors per cell on average.\n",
      "------Calculating SNN between adjacent section Puck_180531_22 and Puck_180531_23.\n",
      "This graph contains 21110 edges, 3451 cells.\n",
      "6.1171 neighbors per cell on average.\n",
      "3D SNN contains 294428 edges, 10908 cells.\n",
      "26.9919 neighbors per cell on average.\n"
     ]
    }
   ],
   "source": [
    "STAGATE.Cal_Spatial_Net_3D(adata, rad_cutoff_2D=50, rad_cutoff_Zaxis=50,\n",
    "                           key_section='Section_id', section_order = section_order, verbose=True)"
   ],
   "metadata": {
    "collapsed": false,
    "ExecuteTime": {
     "end_time": "2023-10-23T05:49:49.902414900Z",
     "start_time": "2023-10-23T05:49:34.337791400Z"
    }
   },
   "id": "df082bf3bc6c70c6"
  },
  {
   "cell_type": "markdown",
   "source": [
    "# Running STAGATE with 3D spatial networks"
   ],
   "metadata": {
    "collapsed": false
   },
   "id": "763efe8e46c689d8"
  },
  {
   "cell_type": "code",
   "execution_count": 15,
   "outputs": [
    {
     "data": {
      "text/plain": "array([[0., 0., 0., ..., 0., 0., 0.],\n       [0., 0., 0., ..., 0., 0., 0.],\n       [0., 0., 0., ..., 0., 0., 0.],\n       ...,\n       [0., 0., 0., ..., 0., 0., 0.],\n       [0., 0., 0., ..., 0., 0., 0.],\n       [0., 0., 0., ..., 0., 0., 0.]])"
     },
     "execution_count": 15,
     "metadata": {},
     "output_type": "execute_result"
    }
   ],
   "source": [
    "adata.X = adata.X.astype('float64')\n",
    "adata.X "
   ],
   "metadata": {
    "collapsed": false,
    "ExecuteTime": {
     "end_time": "2023-10-23T05:49:50.111654300Z",
     "start_time": "2023-10-23T05:49:49.902414900Z"
    }
   },
   "id": "938d9295c3eb47c4"
  },
  {
   "cell_type": "code",
   "execution_count": 16,
   "outputs": [
    {
     "name": "stdout",
     "output_type": "stream",
     "text": [
      "Size of Input:  (10908, 3000)\n",
      "WARNING:tensorflow:From /home/zbdc/miniconda3/envs/STAGATE_env/lib/python3.7/site-packages/tensorflow_core/python/ops/math_grad.py:1375: where (from tensorflow.python.ops.array_ops) is deprecated and will be removed in a future version.\n",
      "Instructions for updating:\n",
      "Use tf.where in 2.0, which has the same broadcast rule as np.where\n"
     ]
    },
    {
     "name": "stderr",
     "output_type": "stream",
     "text": [
      "2023-10-23 13:49:50.342738: I tensorflow/core/platform/cpu_feature_guard.cc:142] Your CPU supports instructions that this TensorFlow binary was not compiled to use: AVX2 AVX512F FMA\n",
      "2023-10-23 13:49:50.362679: I tensorflow/core/platform/profile_utils/cpu_utils.cc:94] CPU Frequency: 2200000000 Hz\n",
      "2023-10-23 13:49:50.374273: I tensorflow/compiler/xla/service/service.cc:168] XLA service 0x55c94723a4d0 initialized for platform Host (this does not guarantee that XLA will be used). Devices:\n",
      "2023-10-23 13:49:50.374311: I tensorflow/compiler/xla/service/service.cc:176]   StreamExecutor device (0): Host, Default Version\n",
      "2023-10-23 13:49:50.377060: I tensorflow/stream_executor/platform/default/dso_loader.cc:44] Successfully opened dynamic library libcuda.so.1\n",
      "2023-10-23 13:49:50.580395: I tensorflow/compiler/xla/service/service.cc:168] XLA service 0x55c947614ba0 initialized for platform CUDA (this does not guarantee that XLA will be used). Devices:\n",
      "2023-10-23 13:49:50.580460: I tensorflow/compiler/xla/service/service.cc:176]   StreamExecutor device (0): NVIDIA GeForce RTX 3090, Compute Capability 8.6\n",
      "2023-10-23 13:49:50.581244: I tensorflow/core/common_runtime/gpu/gpu_device.cc:1618] Found device 0 with properties: \n",
      "name: NVIDIA GeForce RTX 3090 major: 8 minor: 6 memoryClockRate(GHz): 1.695\n",
      "pciBusID: 0000:d5:00.0\n",
      "2023-10-23 13:49:50.581354: W tensorflow/stream_executor/platform/default/dso_loader.cc:55] Could not load dynamic library 'libcudart.so.10.0'; dlerror: libcudart.so.10.0: cannot open shared object file: No such file or directory\n",
      "2023-10-23 13:49:50.581399: W tensorflow/stream_executor/platform/default/dso_loader.cc:55] Could not load dynamic library 'libcublas.so.10.0'; dlerror: libcublas.so.10.0: cannot open shared object file: No such file or directory\n",
      "2023-10-23 13:49:50.581437: W tensorflow/stream_executor/platform/default/dso_loader.cc:55] Could not load dynamic library 'libcufft.so.10.0'; dlerror: libcufft.so.10.0: cannot open shared object file: No such file or directory\n",
      "2023-10-23 13:49:50.581479: W tensorflow/stream_executor/platform/default/dso_loader.cc:55] Could not load dynamic library 'libcurand.so.10.0'; dlerror: libcurand.so.10.0: cannot open shared object file: No such file or directory\n",
      "2023-10-23 13:49:50.581519: W tensorflow/stream_executor/platform/default/dso_loader.cc:55] Could not load dynamic library 'libcusolver.so.10.0'; dlerror: libcusolver.so.10.0: cannot open shared object file: No such file or directory\n",
      "2023-10-23 13:49:50.581558: W tensorflow/stream_executor/platform/default/dso_loader.cc:55] Could not load dynamic library 'libcusparse.so.10.0'; dlerror: libcusparse.so.10.0: cannot open shared object file: No such file or directory\n",
      "2023-10-23 13:49:50.581598: W tensorflow/stream_executor/platform/default/dso_loader.cc:55] Could not load dynamic library 'libcudnn.so.7'; dlerror: libcudnn.so.7: cannot open shared object file: No such file or directory\n",
      "2023-10-23 13:49:50.581604: W tensorflow/core/common_runtime/gpu/gpu_device.cc:1641] Cannot dlopen some GPU libraries. Please make sure the missing libraries mentioned above are installed properly if you would like to use GPU. Follow the guide at https://www.tensorflow.org/install/gpu for how to download and setup the required libraries for your platform.\n",
      "Skipping registering GPU devices...\n",
      "2023-10-23 13:49:50.581618: I tensorflow/core/common_runtime/gpu/gpu_device.cc:1159] Device interconnect StreamExecutor with strength 1 edge matrix:\n",
      "2023-10-23 13:49:50.581624: I tensorflow/core/common_runtime/gpu/gpu_device.cc:1165]      0 \n",
      "2023-10-23 13:49:50.581629: I tensorflow/core/common_runtime/gpu/gpu_device.cc:1178] 0:   N \n",
      "100%|██████████| 500/500 [09:01<00:00,  1.08s/it]\n"
     ]
    }
   ],
   "source": [
    "adata = STAGATE.train_STAGATE(adata, alpha=0)"
   ],
   "metadata": {
    "collapsed": false,
    "ExecuteTime": {
     "end_time": "2023-10-23T05:58:52.911314100Z",
     "start_time": "2023-10-23T05:49:50.112654900Z"
    }
   },
   "id": "96b60d5cb1ac7d70"
  },
  {
   "cell_type": "code",
   "execution_count": 17,
   "outputs": [],
   "source": [
    "sc.pp.neighbors(adata, use_rep='STAGATE')\n",
    "sc.tl.umap(adata)"
   ],
   "metadata": {
    "collapsed": false,
    "ExecuteTime": {
     "end_time": "2023-10-23T05:59:22.299839500Z",
     "start_time": "2023-10-23T05:58:52.914315100Z"
    }
   },
   "id": "165f023fc900dce"
  },
  {
   "cell_type": "code",
   "execution_count": 18,
   "outputs": [
    {
     "ename": "ModuleNotFoundError",
     "evalue": "No module named 'rpy2'",
     "output_type": "error",
     "traceback": [
      "\u001B[0;31m---------------------------------------------------------------------------\u001B[0m",
      "\u001B[0;31mModuleNotFoundError\u001B[0m                       Traceback (most recent call last)",
      "\u001B[0;32m/tmp/ipykernel_2097419/2240259406.py\u001B[0m in \u001B[0;36m<module>\u001B[0;34m\u001B[0m\n\u001B[1;32m      1\u001B[0m \u001B[0mnum_cluster\u001B[0m \u001B[0;34m=\u001B[0m \u001B[0;36m4\u001B[0m\u001B[0;34m\u001B[0m\u001B[0m\n\u001B[0;32m----> 2\u001B[0;31m \u001B[0madata\u001B[0m \u001B[0;34m=\u001B[0m \u001B[0mSTAGATE\u001B[0m\u001B[0;34m.\u001B[0m\u001B[0mmclust_R\u001B[0m\u001B[0;34m(\u001B[0m\u001B[0madata\u001B[0m\u001B[0;34m,\u001B[0m \u001B[0mnum_cluster\u001B[0m\u001B[0;34m,\u001B[0m \u001B[0mused_obsm\u001B[0m\u001B[0;34m=\u001B[0m\u001B[0;34m'STAGATE'\u001B[0m\u001B[0;34m)\u001B[0m\u001B[0;34m\u001B[0m\u001B[0m\n\u001B[0m",
      "\u001B[0;32m~/miniconda3/envs/STAGATE_env/lib/python3.7/site-packages/STAGATE-1.0.1-py3.7.egg/STAGATE/utils.py\u001B[0m in \u001B[0;36mmclust_R\u001B[0;34m(adata, num_cluster, modelNames, used_obsm, random_seed)\u001B[0m\n\u001B[1;32m    159\u001B[0m \u001B[0;34m\u001B[0m\u001B[0m\n\u001B[1;32m    160\u001B[0m     \u001B[0mnp\u001B[0m\u001B[0;34m.\u001B[0m\u001B[0mrandom\u001B[0m\u001B[0;34m.\u001B[0m\u001B[0mseed\u001B[0m\u001B[0;34m(\u001B[0m\u001B[0mrandom_seed\u001B[0m\u001B[0;34m)\u001B[0m\u001B[0;34m\u001B[0m\u001B[0m\n\u001B[0;32m--> 161\u001B[0;31m     \u001B[0;32mimport\u001B[0m \u001B[0mrpy2\u001B[0m\u001B[0;34m.\u001B[0m\u001B[0mrobjects\u001B[0m \u001B[0;32mas\u001B[0m \u001B[0mrobjects\u001B[0m\u001B[0;34m\u001B[0m\u001B[0m\n\u001B[0m\u001B[1;32m    162\u001B[0m     \u001B[0mrobjects\u001B[0m\u001B[0;34m.\u001B[0m\u001B[0mr\u001B[0m\u001B[0;34m.\u001B[0m\u001B[0mlibrary\u001B[0m\u001B[0;34m(\u001B[0m\u001B[0;34m\"mclust\"\u001B[0m\u001B[0;34m)\u001B[0m\u001B[0;34m\u001B[0m\u001B[0m\n\u001B[1;32m    163\u001B[0m \u001B[0;34m\u001B[0m\u001B[0m\n",
      "\u001B[0;31mModuleNotFoundError\u001B[0m: No module named 'rpy2'"
     ]
    }
   ],
   "source": [
    "num_cluster = 4\n",
    "adata = STAGATE.mclust_R(adata, num_cluster, used_obsm='STAGATE')"
   ],
   "metadata": {
    "collapsed": false,
    "ExecuteTime": {
     "end_time": "2023-10-23T05:59:23.039814100Z",
     "start_time": "2023-10-23T05:59:22.319593600Z"
    }
   },
   "id": "49d28f49a0167bb2"
  },
  {
   "cell_type": "code",
   "execution_count": null,
   "outputs": [],
   "source": [
    "adata.uns['Section_id_colors'] = ['#02899A', '#0E994D', '#86C049', '#FBB21F', '#F48022', '#DA5326', '#BA3326']"
   ],
   "metadata": {
    "collapsed": false,
    "ExecuteTime": {
     "start_time": "2023-10-23T05:59:23.041818900Z"
    }
   },
   "id": "f2c9e8ebf19d7b10"
  },
  {
   "cell_type": "code",
   "execution_count": null,
   "outputs": [],
   "source": [
    "plt.rcParams[\"figure.figsize\"] = (3, 3)\n",
    "sc.pl.umap(adata, color=['mclust', 'Section_id'])"
   ],
   "metadata": {
    "collapsed": false,
    "ExecuteTime": {
     "start_time": "2023-10-23T05:59:23.043820100Z"
    }
   },
   "id": "52fa7e30d73f865"
  },
  {
   "cell_type": "code",
   "execution_count": null,
   "outputs": [],
   "source": [
    "fig = plt.figure(figsize=(4, 4))\n",
    "ax1 = plt.axes(projection='3d')\n",
    "for it, label in enumerate(np.unique(adata.obs['mclust'])):\n",
    "    temp_Coor = adata.obs.loc[adata.obs['mclust']==label, :]\n",
    "    temp_xd = temp_Coor['X']\n",
    "    temp_yd = temp_Coor['Y']\n",
    "    temp_zd = temp_Coor['Z']\n",
    "    ax1.scatter3D(temp_xd, temp_yd, temp_zd, c=adata.uns['mclust_colors'][it],s=0.2, marker=\"o\", label=label)\n",
    "\n",
    "ax1.set_xlabel('')\n",
    "ax1.set_ylabel('')\n",
    "ax1.set_zlabel('')\n",
    "\n",
    "ax1.set_xticklabels([])\n",
    "ax1.set_yticklabels([])\n",
    "ax1.set_zticklabels([])\n",
    "\n",
    "plt.legend(bbox_to_anchor=(1.2,0.8), markerscale=10, frameon=False)\n",
    "plt.title('STAGATE-3D')\n",
    "\n",
    "ax1.elev = 45\n",
    "ax1.azim = -20\n",
    "\n",
    "plt.show()"
   ],
   "metadata": {
    "collapsed": false,
    "ExecuteTime": {
     "start_time": "2023-10-23T05:59:23.044822100Z"
    }
   },
   "id": "98f65faf8c5a4664"
  },
  {
   "cell_type": "markdown",
   "source": [
    "# Running STAGATE with 2D spatial networks (for comparison)\n",
    "\n",
    "The 2D spatial networks are saved at adata.uns (‘Spatial_Net_2D’). For camparison, we replace the 3D spatial networks with 2D spatial network and run STAGATE."
   ],
   "metadata": {
    "collapsed": false
   },
   "id": "7d45ef6705582f87"
  },
  {
   "cell_type": "code",
   "execution_count": null,
   "outputs": [],
   "source": [
    "adata_2D = adata.copy()"
   ],
   "metadata": {
    "collapsed": false,
    "ExecuteTime": {
     "start_time": "2023-10-23T05:59:23.091457500Z"
    }
   },
   "id": "9046d7a747a3f50a"
  },
  {
   "cell_type": "code",
   "execution_count": null,
   "outputs": [],
   "source": [
    "adata_2D.uns['Spatial_Net'] = adata.uns['Spatial_Net_2D'].copy()"
   ],
   "metadata": {
    "collapsed": false,
    "ExecuteTime": {
     "start_time": "2023-10-23T05:59:23.092459400Z"
    }
   },
   "id": "3142f33a0dd94248"
  },
  {
   "cell_type": "code",
   "execution_count": null,
   "outputs": [],
   "source": [
    "adata_2D = STAGATE.train_STAGATE(adata_2D, alpha=0)"
   ],
   "metadata": {
    "collapsed": false,
    "ExecuteTime": {
     "start_time": "2023-10-23T05:59:23.092459400Z"
    }
   },
   "id": "bc054bbf9cbed892"
  },
  {
   "cell_type": "code",
   "execution_count": null,
   "outputs": [],
   "source": [
    "sc.pp.neighbors(adata_2D, use_rep='STAGATE')\n",
    "sc.tl.umap(adata_2D)"
   ],
   "metadata": {
    "collapsed": false,
    "ExecuteTime": {
     "start_time": "2023-10-23T05:59:23.092459400Z"
    }
   },
   "id": "da1585a2fb71b6e5"
  },
  {
   "cell_type": "code",
   "execution_count": null,
   "outputs": [],
   "source": [
    "num_cluster = 4\n",
    "adata_2D = STAGATE.mclust_R(adata_2D, num_cluster, used_obsm='STAGATE')"
   ],
   "metadata": {
    "collapsed": false,
    "ExecuteTime": {
     "start_time": "2023-10-23T05:59:23.092459400Z"
    }
   },
   "id": "bb27557829992c1"
  },
  {
   "cell_type": "code",
   "execution_count": null,
   "outputs": [],
   "source": [
    "adata_2D.uns['Section_id_colors'] = ['#02899A', '#0E994D', '#86C049', '#FBB21F', '#F48022', '#DA5326', '#BA3326']"
   ],
   "metadata": {
    "collapsed": false,
    "ExecuteTime": {
     "start_time": "2023-10-23T05:59:23.092459400Z"
    }
   },
   "id": "3dff243a954b6f75"
  },
  {
   "cell_type": "code",
   "execution_count": null,
   "outputs": [],
   "source": [
    "plt.rcParams[\"figure.figsize\"] = (3, 3)\n",
    "sc.pl.umap(adata_2D, color=['mclust', 'Section_id'])"
   ],
   "metadata": {
    "collapsed": false,
    "ExecuteTime": {
     "end_time": "2023-10-23T05:59:23.092459400Z",
     "start_time": "2023-10-23T05:59:23.092459400Z"
    }
   },
   "id": "78cbd2984c09f23c"
  },
  {
   "cell_type": "code",
   "execution_count": null,
   "outputs": [],
   "source": [
    "fig = plt.figure(figsize=(4, 4))\n",
    "ax1 = plt.axes(projection='3d')\n",
    "for it, label in enumerate(np.unique(adata_2D.obs['mclust'])):\n",
    "    temp_Coor = adata_2D.obs.loc[adata_2D.obs['mclust']==label, :]\n",
    "    temp_xd = temp_Coor['X']\n",
    "    temp_yd = temp_Coor['Y']\n",
    "    temp_zd = temp_Coor['Z']\n",
    "    ax1.scatter3D(temp_xd, temp_yd, temp_zd, c=adata_2D.uns['mclust_colors'][it],s=0.2, marker=\"o\", label=label)\n",
    "\n",
    "ax1.set_xlabel('')\n",
    "ax1.set_ylabel('')\n",
    "ax1.set_zlabel('')\n",
    "\n",
    "ax1.set_xticklabels([])\n",
    "ax1.set_yticklabels([])\n",
    "ax1.set_zticklabels([])\n",
    "\n",
    "plt.legend(bbox_to_anchor=(1.2,0.8), markerscale=10, frameon=False)\n",
    "plt.title('STAGATE-2D')\n",
    "\n",
    "ax1.elev = 45\n",
    "ax1.azim = -20\n",
    "\n",
    "plt.show()"
   ],
   "metadata": {
    "collapsed": false,
    "ExecuteTime": {
     "start_time": "2023-10-23T05:59:23.092459400Z"
    }
   },
   "id": "9935f930ea1579f0"
  },
  {
   "cell_type": "code",
   "execution_count": null,
   "outputs": [],
   "source": [
    "fig, axs = plt.subplots(2, 2, figsize=(8,8))\n",
    "sc.pl.umap(adata_2D, color='mclust', title='mclust (STAGATE-2D)', show=False, ax=axs[0,0])\n",
    "sc.pl.umap(adata_2D, color='Section_id', title='Section_id (STAGATE-2D)', show=False, ax=axs[0,1])\n",
    "sc.pl.umap(adata, color='mclust', title='mclust (STAGATE-3D)', show=False, ax=axs[1,0])\n",
    "sc.pl.umap(adata, color='Section_id', title='Section_id (STAGATE-3D)', show=False, ax=axs[1,1])"
   ],
   "metadata": {
    "collapsed": false,
    "ExecuteTime": {
     "start_time": "2023-10-23T05:59:23.092459400Z"
    }
   },
   "id": "a5f5adbe06642cd1"
  }
 ],
 "metadata": {
  "kernelspec": {
   "display_name": "Python 3",
   "language": "python",
   "name": "python3"
  },
  "language_info": {
   "codemirror_mode": {
    "name": "ipython",
    "version": 2
   },
   "file_extension": ".py",
   "mimetype": "text/x-python",
   "name": "python",
   "nbconvert_exporter": "python",
   "pygments_lexer": "ipython2",
   "version": "2.7.6"
  }
 },
 "nbformat": 4,
 "nbformat_minor": 5
}
