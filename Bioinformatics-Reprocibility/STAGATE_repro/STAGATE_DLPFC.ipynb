{
 "cells": [
  {
   "cell_type": "code",
   "execution_count": null,
   "id": "initial_id",
   "metadata": {
    "collapsed": true
   },
   "outputs": [],
   "source": [
    "import warnings\n",
    "warnings.filterwarnings(\"ignore\")"
   ]
  },
  {
   "cell_type": "code",
   "execution_count": null,
   "outputs": [],
   "source": [
    "import pandas as pd\n",
    "import numpy as np\n",
    "import scanpy as sc\n",
    "import matplotlib.pyplot as plt\n",
    "import os\n",
    "import sys"
   ],
   "metadata": {
    "collapsed": false
   },
   "id": "2d9069c8a8e9ee9d"
  },
  {
   "cell_type": "code",
   "execution_count": null,
   "outputs": [],
   "source": [
    "from sklearn.metrics.cluster import adjusted_rand_score"
   ],
   "metadata": {
    "collapsed": false
   },
   "id": "631b5c1ff10172e7"
  },
  {
   "cell_type": "code",
   "execution_count": null,
   "outputs": [],
   "source": [
    "import STAGATE"
   ],
   "metadata": {
    "collapsed": false
   },
   "id": "b0794ea449550ca2"
  },
  {
   "cell_type": "code",
   "execution_count": null,
   "outputs": [],
   "source": [
    "# the location of R (used for the mclust clustering)\n",
    "os.environ['R_HOME'] = 'C:\\Program Files\\R\\R-4.0.0'\n",
    "os.environ['R_USER'] = 'D:\\ProgramData\\Anaconda3\\Lib\\site-packages\\rpy2'"
   ],
   "metadata": {
    "collapsed": false
   },
   "id": "221f5dad77c78a02"
  },
  {
   "cell_type": "code",
   "execution_count": null,
   "outputs": [],
   "source": [
    "section_id = '151676'"
   ],
   "metadata": {
    "collapsed": false
   },
   "id": "a0c6550ac7fb182d"
  },
  {
   "cell_type": "code",
   "execution_count": null,
   "outputs": [],
   "source": [
    "input_dir = os.path.join('Data', section_id)\n",
    "adata = sc.read_visium(path=input_dir, count_file=section_id+'_filtered_feature_bc_matrix.h5')\n",
    "adata.var_names_make_unique()"
   ],
   "metadata": {
    "collapsed": false
   },
   "id": "e278866a5a21265d"
  },
  {
   "cell_type": "code",
   "execution_count": null,
   "outputs": [],
   "source": [
    "adata"
   ],
   "metadata": {
    "collapsed": false
   },
   "id": "7ab36cfa9c9e79c"
  },
  {
   "cell_type": "code",
   "execution_count": null,
   "outputs": [],
   "source": [
    "#Normalization\n",
    "sc.pp.highly_variable_genes(adata, flavor=\"seurat_v3\", n_top_genes=3000)\n",
    "sc.pp.normalize_total(adata, target_sum=1e4)\n",
    "sc.pp.log1p(adata)"
   ],
   "metadata": {
    "collapsed": false
   },
   "id": "dd4107cc6845388f"
  },
  {
   "cell_type": "code",
   "execution_count": null,
   "outputs": [],
   "source": [
    "# read the annotation\n",
    "Ann_df = pd.read_csv(os.path.join('Data', section_id, section_id+'_truth.txt'), sep='\\t', header=None, index_col=0)\n",
    "Ann_df.columns = ['Ground Truth']"
   ],
   "metadata": {
    "collapsed": false
   },
   "id": "5050daf2dd97f24e"
  },
  {
   "cell_type": "code",
   "execution_count": null,
   "outputs": [],
   "source": [
    "adata.obs['Ground Truth'] = Ann_df.loc[adata.obs_names, 'Ground Truth']"
   ],
   "metadata": {
    "collapsed": false
   },
   "id": "5570295f5b25e9cc"
  },
  {
   "cell_type": "code",
   "execution_count": null,
   "outputs": [],
   "source": [
    "plt.rcParams[\"figure.figsize\"] = (3, 3)\n",
    "sc.pl.spatial(adata, img_key=\"hires\", color=[\"Ground Truth\"])"
   ],
   "metadata": {
    "collapsed": false
   },
   "id": "c336efc074e7e17b"
  }
 ],
 "metadata": {
  "kernelspec": {
   "display_name": "Python 3",
   "language": "python",
   "name": "python3"
  },
  "language_info": {
   "codemirror_mode": {
    "name": "ipython",
    "version": 2
   },
   "file_extension": ".py",
   "mimetype": "text/x-python",
   "name": "python",
   "nbconvert_exporter": "python",
   "pygments_lexer": "ipython2",
   "version": "2.7.6"
  }
 },
 "nbformat": 4,
 "nbformat_minor": 5
}
