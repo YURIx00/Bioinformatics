{
 "cells": [
  {
   "cell_type": "markdown",
   "source": [
    "# Preparation"
   ],
   "metadata": {
    "collapsed": false
   },
   "id": "c46f6732d78a724b"
  },
  {
   "cell_type": "code",
   "execution_count": null,
   "id": "initial_id",
   "metadata": {
    "collapsed": true
   },
   "outputs": [],
   "source": [
    "import warnings\n",
    "warnings.filterwarnings(\"ignore\")"
   ]
  },
  {
   "cell_type": "code",
   "execution_count": null,
   "outputs": [],
   "source": [
    "import pandas as pd\n",
    "import numpy as np\n",
    "import scanpy as sc\n",
    "import matplotlib.pyplot as plt\n",
    "import os\n",
    "import sys"
   ],
   "metadata": {
    "collapsed": false
   },
   "id": "30081e3d8188f131"
  },
  {
   "cell_type": "code",
   "execution_count": null,
   "outputs": [],
   "source": [
    "import STAGATE"
   ],
   "metadata": {
    "collapsed": false
   },
   "id": "fc72969e5ad01249"
  },
  {
   "cell_type": "code",
   "execution_count": null,
   "outputs": [],
   "source": [
    "os.environ[\"CUDA_DEVICE_ORDER\"] = \"PCI_BUS_ID\"\n",
    "os.environ[\"CUDA_VISIBLE_DEVICES\"] = \"8\""
   ],
   "metadata": {
    "collapsed": false
   },
   "id": "986a701ba3b24b5"
  },
  {
   "cell_type": "code",
   "execution_count": null,
   "outputs": [],
   "source": [
    "input_dir = '/home/zbdc/github/Data/Mouse_olfactory_bulb/Slide-seqV2'\n",
    "counts_file = os.path.join(input_dir, 'Puck_200127_15.digital_expression.txt')\n",
    "coor_file = os.path.join(input_dir, 'Puck_200127_15_bead_locations.csv')"
   ],
   "metadata": {
    "collapsed": false
   },
   "id": "10da2bdf4c0825d6"
  },
  {
   "cell_type": "code",
   "execution_count": null,
   "outputs": [],
   "source": [
    "counts = pd.read_csv(counts_file, sep='\\t', index_col=0)\n",
    "coor_df = pd.read_csv(coor_file, index_col=0)\n",
    "print(counts.shape, coor_df.shape)"
   ],
   "metadata": {
    "collapsed": false,
    "is_executing": true
   },
   "id": "76e62cc7031ab2d8"
  },
  {
   "cell_type": "code",
   "execution_count": null,
   "outputs": [],
   "source": [
    "adata = sc.AnnData(counts.T)\n",
    "adata.var_names_make_unique()"
   ],
   "metadata": {
    "collapsed": false,
    "is_executing": true
   },
   "id": "6aa4f79065bb7428"
  },
  {
   "cell_type": "code",
   "execution_count": null,
   "outputs": [],
   "source": [
    "adata.obs_names.to_frame()"
   ],
   "metadata": {
    "collapsed": false,
    "is_executing": true
   },
   "id": "5d1609ef8d3905e2"
  },
  {
   "cell_type": "code",
   "execution_count": null,
   "outputs": [],
   "source": [
    "coor_df.index = coor_df['barcode']\n",
    "coor_df"
   ],
   "metadata": {
    "collapsed": false,
    "is_executing": true
   },
   "id": "1ac6241d6652a32e"
  },
  {
   "cell_type": "code",
   "execution_count": null,
   "outputs": [],
   "source": [
    "merged_df = pd.concat([adata.obs_names.to_frame(), coor_df], axis=1)\n",
    "merged_df.drop(columns=[0, 'barcode'], inplace=True)\n",
    "merged_df"
   ],
   "metadata": {
    "collapsed": false,
    "is_executing": true
   },
   "id": "423d3fbcc95c3749"
  },
  {
   "cell_type": "code",
   "execution_count": null,
   "outputs": [],
   "source": [
    "adata.obsm[\"spatial\"] = merged_df.to_numpy()"
   ],
   "metadata": {
    "collapsed": false,
    "is_executing": true
   },
   "id": "d95fe78448754a59"
  },
  {
   "cell_type": "code",
   "execution_count": null,
   "outputs": [],
   "source": [
    "sc.pp.calculate_qc_metrics(adata, inplace=True)"
   ],
   "metadata": {
    "collapsed": false,
    "is_executing": true
   },
   "id": "1c9d5b6ca381849e"
  },
  {
   "cell_type": "code",
   "execution_count": null,
   "outputs": [],
   "source": [
    "adata"
   ],
   "metadata": {
    "collapsed": false,
    "is_executing": true
   },
   "id": "ab9a2badb7bbadde"
  },
  {
   "cell_type": "code",
   "execution_count": null,
   "outputs": [],
   "source": [
    "plt.rcParams[\"figure.figsize\"] = (6,5)\n",
    "sc.pl.embedding(adata, basis=\"spatial\", color=\"log1p_total_counts\",s=6, show=False)\n",
    "plt.title('')\n",
    "plt.axis('off')"
   ],
   "metadata": {
    "collapsed": false,
    "is_executing": true
   },
   "id": "a75447ce7c5b11c"
  },
  {
   "cell_type": "code",
   "execution_count": null,
   "outputs": [],
   "source": [
    "# can be downloaded from https://drive.google.com/drive/folders/10lhz5VY7YfvHrtV40MwaqLmWz56U9eBP?usp=sharing\n",
    "used_barcode = pd.read_csv(input_dir + 'used_barcodes.txt', sep='\\t', header=None)\n",
    "used_barcode = used_barcode[0]"
   ],
   "metadata": {
    "collapsed": false,
    "is_executing": true
   },
   "id": "39447b5b38f98dcf"
  },
  {
   "cell_type": "code",
   "execution_count": null,
   "outputs": [],
   "source": [
    "adata.obs_names"
   ],
   "metadata": {
    "collapsed": false,
    "is_executing": true
   },
   "id": "878a02c8515a6f32"
  },
  {
   "cell_type": "code",
   "execution_count": null,
   "outputs": [],
   "source": [
    "adata = adata[used_barcode,]"
   ],
   "metadata": {
    "collapsed": false,
    "is_executing": true
   },
   "id": "347d5ef53f16643b"
  },
  {
   "cell_type": "code",
   "execution_count": null,
   "outputs": [],
   "source": [
    "plt.rcParams[\"figure.figsize\"] = (5,5)\n",
    "sc.pl.embedding(adata, basis=\"spatial\", color=\"log1p_total_counts\",s=10, show=False, title='Removing spots outside the main tissue area')\n",
    "\n",
    "plt.axis('off')"
   ],
   "metadata": {
    "collapsed": false,
    "is_executing": true
   },
   "id": "983410eb0af0b815"
  },
  {
   "cell_type": "code",
   "execution_count": null,
   "outputs": [],
   "source": [
    "sc.pp.filter_genes(adata, min_cells=50)\n",
    "print('After flitering: ', adata.shape)"
   ],
   "metadata": {
    "collapsed": false,
    "is_executing": true
   },
   "id": "58a39602b3b7239f"
  },
  {
   "cell_type": "code",
   "execution_count": null,
   "outputs": [],
   "source": [
    "#Normalization\n",
    "sc.pp.highly_variable_genes(adata, flavor=\"seurat_v3\", n_top_genes=3000)\n",
    "sc.pp.normalize_total(adata, target_sum=1e4)\n",
    "sc.pp.log1p(adata)"
   ],
   "metadata": {
    "collapsed": false,
    "is_executing": true
   },
   "id": "84cb2f8adaf82721"
  },
  {
   "cell_type": "markdown",
   "source": [
    "# Constructing the spatial network"
   ],
   "metadata": {
    "collapsed": false
   },
   "id": "bfa638d484e5f271"
  },
  {
   "cell_type": "code",
   "execution_count": null,
   "outputs": [],
   "source": [
    "STAGATE.Cal_Spatial_Net(adata, rad_cutoff=50)\n",
    "STAGATE.Stats_Spatial_Net(adata)"
   ],
   "metadata": {
    "collapsed": false,
    "is_executing": true
   },
   "id": "dc3660ed91e07271"
  },
  {
   "cell_type": "markdown",
   "source": [
    "# Running STAGATE"
   ],
   "metadata": {
    "collapsed": false
   },
   "id": "e6bf78da9055a4ef"
  },
  {
   "cell_type": "code",
   "execution_count": null,
   "outputs": [],
   "source": [
    "adata = STAGATE.train_STAGATE(adata, alpha=0)"
   ],
   "metadata": {
    "collapsed": false,
    "is_executing": true
   },
   "id": "8d6f9dc9616ac494"
  },
  {
   "cell_type": "code",
   "execution_count": null,
   "outputs": [],
   "source": [
    "sc.pp.neighbors(adata, use_rep='STAGATE')\n",
    "sc.tl.umap(adata)"
   ],
   "metadata": {
    "collapsed": false,
    "is_executing": true
   },
   "id": "fcbf832a9cf1db28"
  },
  {
   "cell_type": "code",
   "execution_count": null,
   "outputs": [],
   "source": [
    "sc.tl.louvain(adata, resolution=0.5)"
   ],
   "metadata": {
    "collapsed": false,
    "is_executing": true
   },
   "id": "4cb09ef5d2c896d4"
  },
  {
   "cell_type": "code",
   "execution_count": null,
   "outputs": [],
   "source": [
    "adata.obsm[\"spatial\"] = adata.obsm[\"spatial\"] * (-1)"
   ],
   "metadata": {
    "collapsed": false,
    "is_executing": true
   },
   "id": "1bedbae3011f2b36"
  },
  {
   "cell_type": "code",
   "execution_count": null,
   "outputs": [],
   "source": [
    "plt.rcParams[\"figure.figsize\"] = (3, 3)\n",
    "sc.pl.embedding(adata, basis=\"spatial\", color=\"louvain\",s=6, show=False, title='STAGATE')\n",
    "plt.axis('off')"
   ],
   "metadata": {
    "collapsed": false,
    "is_executing": true
   },
   "id": "3a4110e0f78edffe"
  },
  {
   "cell_type": "code",
   "execution_count": null,
   "outputs": [],
   "source": [
    "sc.pl.umap(adata, color='louvain', title='STAGATE')"
   ],
   "metadata": {
    "collapsed": false,
    "is_executing": true
   },
   "id": "12a6711f66efb691"
  },
  {
   "cell_type": "markdown",
   "source": [
    "# SCANPY results (for comparison)"
   ],
   "metadata": {
    "collapsed": false
   },
   "id": "ce38c9a7ed44cd96"
  },
  {
   "cell_type": "code",
   "execution_count": null,
   "outputs": [],
   "source": [
    "sc.pp.pca(adata, n_comps=30)"
   ],
   "metadata": {
    "collapsed": false,
    "is_executing": true
   },
   "id": "dfe47ccef2caa487"
  },
  {
   "cell_type": "code",
   "execution_count": null,
   "outputs": [],
   "source": [
    "sc.pp.neighbors(adata, use_rep='X_pca')\n",
    "sc.tl.louvain(adata, resolution=0.5)\n",
    "sc.tl.umap(adata)"
   ],
   "metadata": {
    "collapsed": false,
    "is_executing": true
   },
   "id": "8e57af18eabf4aed"
  },
  {
   "cell_type": "code",
   "execution_count": null,
   "outputs": [],
   "source": [
    "plt.rcParams[\"figure.figsize\"] = (3, 3)\n",
    "sc.pl.embedding(adata, basis=\"spatial\", color=\"louvain\",s=6, show=False, title='SCANPY')\n",
    "plt.axis('off')"
   ],
   "metadata": {
    "collapsed": false,
    "is_executing": true
   },
   "id": "285713587fac77fd"
  },
  {
   "cell_type": "code",
   "execution_count": null,
   "outputs": [],
   "source": [
    "sc.pl.umap(adata, color='louvain', title='SCANPY')"
   ],
   "metadata": {
    "collapsed": false,
    "is_executing": true
   },
   "id": "9b53e6a926a766af"
  }
 ],
 "metadata": {
  "kernelspec": {
   "display_name": "Python 3",
   "language": "python",
   "name": "python3"
  },
  "language_info": {
   "codemirror_mode": {
    "name": "ipython",
    "version": 2
   },
   "file_extension": ".py",
   "mimetype": "text/x-python",
   "name": "python",
   "nbconvert_exporter": "python",
   "pygments_lexer": "ipython2",
   "version": "2.7.6"
  }
 },
 "nbformat": 4,
 "nbformat_minor": 5
}
