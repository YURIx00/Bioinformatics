{
 "cells": [
  {
   "cell_type": "markdown",
   "source": [
    "# Additional Tutorial 2: Work for multiple sections (STAGATE + Harmony)"
   ],
   "metadata": {
    "collapsed": false
   },
   "id": "2971506079b3419"
  },
  {
   "cell_type": "code",
   "execution_count": 1,
   "id": "initial_id",
   "metadata": {
    "collapsed": true,
    "ExecuteTime": {
     "end_time": "2023-10-20T07:21:44.932983700Z",
     "start_time": "2023-10-20T07:21:44.651536100Z"
    }
   },
   "outputs": [],
   "source": [
    "import pandas as pd\n",
    "import numpy as np\n",
    "import scanpy as sc\n",
    "import os\n",
    "import sys\n",
    "import matplotlib.pyplot as plt\n",
    "import seaborn as sns\n",
    "import gc\n",
    "import warnings\n",
    "warnings.filterwarnings(\"ignore\")"
   ]
  },
  {
   "cell_type": "code",
   "execution_count": 2,
   "outputs": [],
   "source": [
    "import STAGATE"
   ],
   "metadata": {
    "collapsed": false,
    "ExecuteTime": {
     "end_time": "2023-10-20T07:21:45.585210700Z",
     "start_time": "2023-10-20T07:21:44.933996Z"
    }
   },
   "id": "89c0cf9c40efba35"
  },
  {
   "cell_type": "code",
   "execution_count": 3,
   "outputs": [],
   "source": [
    "os.environ[\"CUDA_DEVICE_ORDER\"] = \"PCI_BUS_ID\"\n",
    "os.environ[\"CUDA_VISIBLE_DEVICES\"] = \"0\""
   ],
   "metadata": {
    "collapsed": false,
    "ExecuteTime": {
     "end_time": "2023-10-20T07:21:45.611210600Z",
     "start_time": "2023-10-20T07:21:45.588212500Z"
    }
   },
   "id": "ca6cc08ae7341578"
  },
  {
   "cell_type": "markdown",
   "source": [
    "# Load Data"
   ],
   "metadata": {
    "collapsed": false
   },
   "id": "fc36e6ba5bf4232a"
  },
  {
   "cell_type": "code",
   "execution_count": 4,
   "outputs": [],
   "source": [
    "adata_list = {}"
   ],
   "metadata": {
    "collapsed": false,
    "ExecuteTime": {
     "end_time": "2023-10-20T07:21:45.611210600Z",
     "start_time": "2023-10-20T07:21:45.596210900Z"
    }
   },
   "id": "e2382d93c99086f"
  },
  {
   "cell_type": "markdown",
   "source": [
    "# Slide-seqV2"
   ],
   "metadata": {
    "collapsed": false
   },
   "id": "34cfacd69a1ae9e1"
  },
  {
   "cell_type": "code",
   "execution_count": 5,
   "outputs": [],
   "source": [
    "input_dir = '/home/zbdc/github/Data/Mouse_olfactory_bulb/Slide-seqV2'\n",
    "counts_file = os.path.join(input_dir, 'Puck_200127_15.digital_expression.txt')\n",
    "coor_file = os.path.join(input_dir, 'Puck_200127_15_bead_locations.csv')"
   ],
   "metadata": {
    "collapsed": false,
    "ExecuteTime": {
     "end_time": "2023-10-20T07:21:45.612211800Z",
     "start_time": "2023-10-20T07:21:45.603210400Z"
    }
   },
   "id": "e449941c125daf86"
  },
  {
   "cell_type": "code",
   "execution_count": 6,
   "outputs": [
    {
     "name": "stdout",
     "output_type": "stream",
     "text": [
      "(21220, 21724) (21724, 3)\n"
     ]
    }
   ],
   "source": [
    "counts = pd.read_csv(counts_file, sep='\\t', index_col=0)\n",
    "coor_df = pd.read_csv(coor_file, index_col=0)\n",
    "print(counts.shape, coor_df.shape)"
   ],
   "metadata": {
    "collapsed": false,
    "ExecuteTime": {
     "end_time": "2023-10-20T07:23:39.383074700Z",
     "start_time": "2023-10-20T07:21:45.608209500Z"
    }
   },
   "id": "b8ba9cb5198297b4"
  },
  {
   "cell_type": "code",
   "execution_count": 7,
   "outputs": [
    {
     "ename": "KeyError",
     "evalue": "\"None of [Index(['TTTTTTTTTTTTTT', 'GCTAGGATTGTAAA', 'CACAACAACGTTGG', 'AATGACGGCAATGC',\\n       'TATTTTAGATCTCA', 'CGCTAACGTCCTTA', 'TTCCCCGCTATCCT', 'TGATGGAAAAAGTC',\\n       'ATCCCAAAATAATT', 'ATCGCTATGCTTTA',\\n       ...\\n       'TCCAGTCGACGGGG', 'AACCAGTCCCCTAA', 'GGGAATAAAACCGA', 'TAACATCATTCCTA',\\n       'TCGACAGGTGGAGG', 'GCCGCCCGTTGGCT', 'ACAATAAGGGTCCT', 'TCTTCACTATCGCT',\\n       'AAGAATTACTAAGC', 'AATCCACATCTTAT'],\\n      dtype='object', length=21724)] are in the [index]\"",
     "output_type": "error",
     "traceback": [
      "\u001B[0;31m---------------------------------------------------------------------------\u001B[0m",
      "\u001B[0;31mKeyError\u001B[0m                                  Traceback (most recent call last)",
      "\u001B[0;32m/tmp/ipykernel_1283890/2976157318.py\u001B[0m in \u001B[0;36m<module>\u001B[0;34m\u001B[0m\n\u001B[1;32m      1\u001B[0m \u001B[0madata\u001B[0m \u001B[0;34m=\u001B[0m \u001B[0msc\u001B[0m\u001B[0;34m.\u001B[0m\u001B[0mAnnData\u001B[0m\u001B[0;34m(\u001B[0m\u001B[0mcounts\u001B[0m\u001B[0;34m.\u001B[0m\u001B[0mT\u001B[0m\u001B[0;34m)\u001B[0m\u001B[0;34m\u001B[0m\u001B[0m\n\u001B[1;32m      2\u001B[0m \u001B[0madata\u001B[0m\u001B[0;34m.\u001B[0m\u001B[0mvar_names_make_unique\u001B[0m\u001B[0;34m(\u001B[0m\u001B[0;34m)\u001B[0m\u001B[0;34m\u001B[0m\u001B[0m\n\u001B[0;32m----> 3\u001B[0;31m \u001B[0mcoor_df\u001B[0m \u001B[0;34m=\u001B[0m \u001B[0mcoor_df\u001B[0m\u001B[0;34m.\u001B[0m\u001B[0mloc\u001B[0m\u001B[0;34m[\u001B[0m\u001B[0madata\u001B[0m\u001B[0;34m.\u001B[0m\u001B[0mobs_names\u001B[0m\u001B[0;34m,\u001B[0m \u001B[0;34m[\u001B[0m\u001B[0;34m'xcoord'\u001B[0m\u001B[0;34m,\u001B[0m \u001B[0;34m'ycoord'\u001B[0m\u001B[0;34m]\u001B[0m\u001B[0;34m]\u001B[0m\u001B[0;34m\u001B[0m\u001B[0m\n\u001B[0m\u001B[1;32m      4\u001B[0m \u001B[0madata\u001B[0m\u001B[0;34m.\u001B[0m\u001B[0mobsm\u001B[0m\u001B[0;34m[\u001B[0m\u001B[0;34m\"spatial\"\u001B[0m\u001B[0;34m]\u001B[0m \u001B[0;34m=\u001B[0m \u001B[0mcoor_df\u001B[0m\u001B[0;34m.\u001B[0m\u001B[0mto_numpy\u001B[0m\u001B[0;34m(\u001B[0m\u001B[0;34m)\u001B[0m\u001B[0;34m\u001B[0m\u001B[0m\n",
      "\u001B[0;32m~/miniconda3/envs/STAGATE_env/lib/python3.7/site-packages/pandas/core/indexing.py\u001B[0m in \u001B[0;36m__getitem__\u001B[0;34m(self, key)\u001B[0m\n\u001B[1;32m    871\u001B[0m                     \u001B[0;31m# AttributeError for IntervalTree get_value\u001B[0m\u001B[0;34m\u001B[0m\u001B[0;34m\u001B[0m\u001B[0m\n\u001B[1;32m    872\u001B[0m                     \u001B[0;32mpass\u001B[0m\u001B[0;34m\u001B[0m\u001B[0m\n\u001B[0;32m--> 873\u001B[0;31m             \u001B[0;32mreturn\u001B[0m \u001B[0mself\u001B[0m\u001B[0;34m.\u001B[0m\u001B[0m_getitem_tuple\u001B[0m\u001B[0;34m(\u001B[0m\u001B[0mkey\u001B[0m\u001B[0;34m)\u001B[0m\u001B[0;34m\u001B[0m\u001B[0m\n\u001B[0m\u001B[1;32m    874\u001B[0m         \u001B[0;32melse\u001B[0m\u001B[0;34m:\u001B[0m\u001B[0;34m\u001B[0m\u001B[0m\n\u001B[1;32m    875\u001B[0m             \u001B[0;31m# we by definition only have the 0th axis\u001B[0m\u001B[0;34m\u001B[0m\u001B[0;34m\u001B[0m\u001B[0m\n",
      "\u001B[0;32m~/miniconda3/envs/STAGATE_env/lib/python3.7/site-packages/pandas/core/indexing.py\u001B[0m in \u001B[0;36m_getitem_tuple\u001B[0;34m(self, tup)\u001B[0m\n\u001B[1;32m   1051\u001B[0m         \u001B[0;31m# ugly hack for GH #836\u001B[0m\u001B[0;34m\u001B[0m\u001B[0;34m\u001B[0m\u001B[0m\n\u001B[1;32m   1052\u001B[0m         \u001B[0;32mif\u001B[0m \u001B[0mself\u001B[0m\u001B[0;34m.\u001B[0m\u001B[0m_multi_take_opportunity\u001B[0m\u001B[0;34m(\u001B[0m\u001B[0mtup\u001B[0m\u001B[0;34m)\u001B[0m\u001B[0;34m:\u001B[0m\u001B[0;34m\u001B[0m\u001B[0m\n\u001B[0;32m-> 1053\u001B[0;31m             \u001B[0;32mreturn\u001B[0m \u001B[0mself\u001B[0m\u001B[0;34m.\u001B[0m\u001B[0m_multi_take\u001B[0m\u001B[0;34m(\u001B[0m\u001B[0mtup\u001B[0m\u001B[0;34m)\u001B[0m\u001B[0;34m\u001B[0m\u001B[0m\n\u001B[0m\u001B[1;32m   1054\u001B[0m \u001B[0;34m\u001B[0m\u001B[0m\n\u001B[1;32m   1055\u001B[0m         \u001B[0;32mreturn\u001B[0m \u001B[0mself\u001B[0m\u001B[0;34m.\u001B[0m\u001B[0m_getitem_tuple_same_dim\u001B[0m\u001B[0;34m(\u001B[0m\u001B[0mtup\u001B[0m\u001B[0;34m)\u001B[0m\u001B[0;34m\u001B[0m\u001B[0m\n",
      "\u001B[0;32m~/miniconda3/envs/STAGATE_env/lib/python3.7/site-packages/pandas/core/indexing.py\u001B[0m in \u001B[0;36m_multi_take\u001B[0;34m(self, tup)\u001B[0m\n\u001B[1;32m   1003\u001B[0m         d = {\n\u001B[1;32m   1004\u001B[0m             \u001B[0maxis\u001B[0m\u001B[0;34m:\u001B[0m \u001B[0mself\u001B[0m\u001B[0;34m.\u001B[0m\u001B[0m_get_listlike_indexer\u001B[0m\u001B[0;34m(\u001B[0m\u001B[0mkey\u001B[0m\u001B[0;34m,\u001B[0m \u001B[0maxis\u001B[0m\u001B[0;34m)\u001B[0m\u001B[0;34m\u001B[0m\u001B[0m\n\u001B[0;32m-> 1005\u001B[0;31m             \u001B[0;32mfor\u001B[0m \u001B[0;34m(\u001B[0m\u001B[0mkey\u001B[0m\u001B[0;34m,\u001B[0m \u001B[0maxis\u001B[0m\u001B[0;34m)\u001B[0m \u001B[0;32min\u001B[0m \u001B[0mzip\u001B[0m\u001B[0;34m(\u001B[0m\u001B[0mtup\u001B[0m\u001B[0;34m,\u001B[0m \u001B[0mself\u001B[0m\u001B[0;34m.\u001B[0m\u001B[0mobj\u001B[0m\u001B[0;34m.\u001B[0m\u001B[0m_AXIS_ORDERS\u001B[0m\u001B[0;34m)\u001B[0m\u001B[0;34m\u001B[0m\u001B[0m\n\u001B[0m\u001B[1;32m   1006\u001B[0m         }\n\u001B[1;32m   1007\u001B[0m         \u001B[0;32mreturn\u001B[0m \u001B[0mself\u001B[0m\u001B[0;34m.\u001B[0m\u001B[0mobj\u001B[0m\u001B[0;34m.\u001B[0m\u001B[0m_reindex_with_indexers\u001B[0m\u001B[0;34m(\u001B[0m\u001B[0md\u001B[0m\u001B[0;34m,\u001B[0m \u001B[0mcopy\u001B[0m\u001B[0;34m=\u001B[0m\u001B[0;32mTrue\u001B[0m\u001B[0;34m,\u001B[0m \u001B[0mallow_dups\u001B[0m\u001B[0;34m=\u001B[0m\u001B[0;32mTrue\u001B[0m\u001B[0;34m)\u001B[0m\u001B[0;34m\u001B[0m\u001B[0m\n",
      "\u001B[0;32m~/miniconda3/envs/STAGATE_env/lib/python3.7/site-packages/pandas/core/indexing.py\u001B[0m in \u001B[0;36m<dictcomp>\u001B[0;34m(.0)\u001B[0m\n\u001B[1;32m   1003\u001B[0m         d = {\n\u001B[1;32m   1004\u001B[0m             \u001B[0maxis\u001B[0m\u001B[0;34m:\u001B[0m \u001B[0mself\u001B[0m\u001B[0;34m.\u001B[0m\u001B[0m_get_listlike_indexer\u001B[0m\u001B[0;34m(\u001B[0m\u001B[0mkey\u001B[0m\u001B[0;34m,\u001B[0m \u001B[0maxis\u001B[0m\u001B[0;34m)\u001B[0m\u001B[0;34m\u001B[0m\u001B[0m\n\u001B[0;32m-> 1005\u001B[0;31m             \u001B[0;32mfor\u001B[0m \u001B[0;34m(\u001B[0m\u001B[0mkey\u001B[0m\u001B[0;34m,\u001B[0m \u001B[0maxis\u001B[0m\u001B[0;34m)\u001B[0m \u001B[0;32min\u001B[0m \u001B[0mzip\u001B[0m\u001B[0;34m(\u001B[0m\u001B[0mtup\u001B[0m\u001B[0;34m,\u001B[0m \u001B[0mself\u001B[0m\u001B[0;34m.\u001B[0m\u001B[0mobj\u001B[0m\u001B[0;34m.\u001B[0m\u001B[0m_AXIS_ORDERS\u001B[0m\u001B[0;34m)\u001B[0m\u001B[0;34m\u001B[0m\u001B[0m\n\u001B[0m\u001B[1;32m   1006\u001B[0m         }\n\u001B[1;32m   1007\u001B[0m         \u001B[0;32mreturn\u001B[0m \u001B[0mself\u001B[0m\u001B[0;34m.\u001B[0m\u001B[0mobj\u001B[0m\u001B[0;34m.\u001B[0m\u001B[0m_reindex_with_indexers\u001B[0m\u001B[0;34m(\u001B[0m\u001B[0md\u001B[0m\u001B[0;34m,\u001B[0m \u001B[0mcopy\u001B[0m\u001B[0;34m=\u001B[0m\u001B[0;32mTrue\u001B[0m\u001B[0;34m,\u001B[0m \u001B[0mallow_dups\u001B[0m\u001B[0;34m=\u001B[0m\u001B[0;32mTrue\u001B[0m\u001B[0;34m)\u001B[0m\u001B[0;34m\u001B[0m\u001B[0m\n",
      "\u001B[0;32m~/miniconda3/envs/STAGATE_env/lib/python3.7/site-packages/pandas/core/indexing.py\u001B[0m in \u001B[0;36m_get_listlike_indexer\u001B[0;34m(self, key, axis, raise_missing)\u001B[0m\n\u001B[1;32m   1252\u001B[0m             \u001B[0mkeyarr\u001B[0m\u001B[0;34m,\u001B[0m \u001B[0mindexer\u001B[0m\u001B[0;34m,\u001B[0m \u001B[0mnew_indexer\u001B[0m \u001B[0;34m=\u001B[0m \u001B[0max\u001B[0m\u001B[0;34m.\u001B[0m\u001B[0m_reindex_non_unique\u001B[0m\u001B[0;34m(\u001B[0m\u001B[0mkeyarr\u001B[0m\u001B[0;34m)\u001B[0m\u001B[0;34m\u001B[0m\u001B[0m\n\u001B[1;32m   1253\u001B[0m \u001B[0;34m\u001B[0m\u001B[0m\n\u001B[0;32m-> 1254\u001B[0;31m         \u001B[0mself\u001B[0m\u001B[0;34m.\u001B[0m\u001B[0m_validate_read_indexer\u001B[0m\u001B[0;34m(\u001B[0m\u001B[0mkeyarr\u001B[0m\u001B[0;34m,\u001B[0m \u001B[0mindexer\u001B[0m\u001B[0;34m,\u001B[0m \u001B[0maxis\u001B[0m\u001B[0;34m,\u001B[0m \u001B[0mraise_missing\u001B[0m\u001B[0;34m=\u001B[0m\u001B[0mraise_missing\u001B[0m\u001B[0;34m)\u001B[0m\u001B[0;34m\u001B[0m\u001B[0m\n\u001B[0m\u001B[1;32m   1255\u001B[0m         \u001B[0;32mreturn\u001B[0m \u001B[0mkeyarr\u001B[0m\u001B[0;34m,\u001B[0m \u001B[0mindexer\u001B[0m\u001B[0;34m\u001B[0m\u001B[0m\n\u001B[1;32m   1256\u001B[0m \u001B[0;34m\u001B[0m\u001B[0m\n",
      "\u001B[0;32m~/miniconda3/envs/STAGATE_env/lib/python3.7/site-packages/pandas/core/indexing.py\u001B[0m in \u001B[0;36m_validate_read_indexer\u001B[0;34m(self, key, indexer, axis, raise_missing)\u001B[0m\n\u001B[1;32m   1296\u001B[0m             \u001B[0;32mif\u001B[0m \u001B[0mmissing\u001B[0m \u001B[0;34m==\u001B[0m \u001B[0mlen\u001B[0m\u001B[0;34m(\u001B[0m\u001B[0mindexer\u001B[0m\u001B[0;34m)\u001B[0m\u001B[0;34m:\u001B[0m\u001B[0;34m\u001B[0m\u001B[0m\n\u001B[1;32m   1297\u001B[0m                 \u001B[0maxis_name\u001B[0m \u001B[0;34m=\u001B[0m \u001B[0mself\u001B[0m\u001B[0;34m.\u001B[0m\u001B[0mobj\u001B[0m\u001B[0;34m.\u001B[0m\u001B[0m_get_axis_name\u001B[0m\u001B[0;34m(\u001B[0m\u001B[0maxis\u001B[0m\u001B[0;34m)\u001B[0m\u001B[0;34m\u001B[0m\u001B[0m\n\u001B[0;32m-> 1298\u001B[0;31m                 \u001B[0;32mraise\u001B[0m \u001B[0mKeyError\u001B[0m\u001B[0;34m(\u001B[0m\u001B[0;34mf\"None of [{key}] are in the [{axis_name}]\"\u001B[0m\u001B[0;34m)\u001B[0m\u001B[0;34m\u001B[0m\u001B[0m\n\u001B[0m\u001B[1;32m   1299\u001B[0m \u001B[0;34m\u001B[0m\u001B[0m\n\u001B[1;32m   1300\u001B[0m             \u001B[0;31m# We (temporarily) allow for some missing keys with .loc, except in\u001B[0m\u001B[0;34m\u001B[0m\u001B[0;34m\u001B[0m\u001B[0m\n",
      "\u001B[0;31mKeyError\u001B[0m: \"None of [Index(['TTTTTTTTTTTTTT', 'GCTAGGATTGTAAA', 'CACAACAACGTTGG', 'AATGACGGCAATGC',\\n       'TATTTTAGATCTCA', 'CGCTAACGTCCTTA', 'TTCCCCGCTATCCT', 'TGATGGAAAAAGTC',\\n       'ATCCCAAAATAATT', 'ATCGCTATGCTTTA',\\n       ...\\n       'TCCAGTCGACGGGG', 'AACCAGTCCCCTAA', 'GGGAATAAAACCGA', 'TAACATCATTCCTA',\\n       'TCGACAGGTGGAGG', 'GCCGCCCGTTGGCT', 'ACAATAAGGGTCCT', 'TCTTCACTATCGCT',\\n       'AAGAATTACTAAGC', 'AATCCACATCTTAT'],\\n      dtype='object', length=21724)] are in the [index]\""
     ]
    }
   ],
   "source": [
    "adata = sc.AnnData(counts.T)\n",
    "adata.var_names_make_unique()\n",
    "coor_df = coor_df.loc[adata.obs_names, ['xcoord', 'ycoord']]\n",
    "adata.obsm[\"spatial\"] = coor_df.to_numpy()"
   ],
   "metadata": {
    "collapsed": false,
    "ExecuteTime": {
     "end_time": "2023-10-20T07:23:41.383866Z",
     "start_time": "2023-10-20T07:23:39.315403Z"
    }
   },
   "id": "18aaf537a09bf54c"
  },
  {
   "cell_type": "code",
   "execution_count": null,
   "outputs": [],
   "source": [
    "sc.pp.calculate_qc_metrics(adata, inplace=True)"
   ],
   "metadata": {
    "collapsed": false,
    "ExecuteTime": {
     "start_time": "2023-10-20T07:23:41.389373700Z"
    }
   },
   "id": "33daa8dc461c51da"
  },
  {
   "cell_type": "code",
   "execution_count": null,
   "outputs": [],
   "source": [
    "adata"
   ],
   "metadata": {
    "collapsed": false,
    "ExecuteTime": {
     "start_time": "2023-10-20T07:23:41.396889500Z"
    }
   },
   "id": "74b540c7f1b7a283"
  },
  {
   "cell_type": "code",
   "execution_count": null,
   "outputs": [],
   "source": [
    "plt.rcParams[\"figure.figsize\"] = (6,5)\n",
    "sc.pl.embedding(adata, basis=\"spatial\", color=\"log1p_total_counts\",s=6, show=False)\n",
    "plt.title('')\n",
    "plt.axis('off')"
   ],
   "metadata": {
    "collapsed": false,
    "ExecuteTime": {
     "start_time": "2023-10-20T07:23:41.442968300Z"
    }
   },
   "id": "e8831a01566eac7b"
  },
  {
   "cell_type": "code",
   "execution_count": null,
   "outputs": [],
   "source": [
    "# can be downloaded from https://drive.google.com/drive/folders/10lhz5VY7YfvHrtV40MwaqLmWz56U9eBP?usp=sharing\n",
    "used_barcode = pd.read_csv(os.path.join(input_dir, 'used_barcodes.txt'), sep='\\t', header=None)\n",
    "used_barcode = used_barcode[0]"
   ],
   "metadata": {
    "collapsed": false,
    "ExecuteTime": {
     "start_time": "2023-10-20T07:23:41.443966200Z"
    }
   },
   "id": "5effa393517145b5"
  },
  {
   "cell_type": "code",
   "execution_count": null,
   "outputs": [],
   "source": [
    "adata = adata[used_barcode,]\n",
    "adata"
   ],
   "metadata": {
    "collapsed": false,
    "ExecuteTime": {
     "start_time": "2023-10-20T07:23:41.443966200Z"
    }
   },
   "id": "c6aac3bb98318fd6"
  },
  {
   "cell_type": "code",
   "execution_count": null,
   "outputs": [],
   "source": [
    "plt.rcParams[\"figure.figsize\"] = (5,5)\n",
    "sc.pl.embedding(adata, basis=\"spatial\", color=\"log1p_total_counts\",s=10, show=False, title='Removing spots outside the main tissue area')\n",
    "\n",
    "plt.axis('off')"
   ],
   "metadata": {
    "collapsed": false,
    "ExecuteTime": {
     "start_time": "2023-10-20T07:23:41.443966200Z"
    }
   },
   "id": "54403326cab7a49a"
  },
  {
   "cell_type": "code",
   "execution_count": null,
   "outputs": [],
   "source": [
    "sc.pp.filter_genes(adata, min_cells=50)\n",
    "print('After flitering: ', adata.shape)"
   ],
   "metadata": {
    "collapsed": false,
    "ExecuteTime": {
     "start_time": "2023-10-20T07:23:41.444973300Z"
    }
   },
   "id": "cbb6434070a6f30e"
  },
  {
   "cell_type": "code",
   "execution_count": null,
   "outputs": [],
   "source": [
    "# make spot name unique\n",
    "adata.obs_names = [x+'_SlideSeqV2' for x in adata.obs_names]"
   ],
   "metadata": {
    "collapsed": false,
    "ExecuteTime": {
     "start_time": "2023-10-20T07:23:41.444973300Z"
    }
   },
   "id": "7ec0427f85d269cf"
  },
  {
   "cell_type": "code",
   "execution_count": null,
   "outputs": [],
   "source": [
    "adata_list['SlideSeqV2'] = adata.copy()"
   ],
   "metadata": {
    "collapsed": false,
    "ExecuteTime": {
     "start_time": "2023-10-20T07:23:41.480168900Z"
    }
   },
   "id": "4c2e7e8804e81d76"
  },
  {
   "cell_type": "markdown",
   "source": [
    "# Stereo-seq"
   ],
   "metadata": {
    "collapsed": false
   },
   "id": "9f6cccd03477a437"
  },
  {
   "cell_type": "code",
   "execution_count": null,
   "outputs": [],
   "source": [
    "input_dir = '/home/zbdc/github/Data/Mouse olfactory bulb/Stereo-seq'\n",
    "counts_file = os.path.join(input_dir, 'RNA_counts.tsv')\n",
    "coor_file = os.path.join(input_dir, 'position.tsv')"
   ],
   "metadata": {
    "collapsed": false,
    "ExecuteTime": {
     "start_time": "2023-10-20T07:23:41.481172200Z"
    }
   },
   "id": "7d7f033d506e791d"
  },
  {
   "cell_type": "code",
   "execution_count": null,
   "outputs": [],
   "source": [
    "counts = pd.read_csv(counts_file, sep='\\t', index_col=0)\n",
    "coor_df = pd.read_csv(coor_file, sep='\\t')\n",
    "print(counts.shape, coor_df.shape)"
   ],
   "metadata": {
    "collapsed": false,
    "ExecuteTime": {
     "end_time": "2023-10-20T07:23:41.613074200Z",
     "start_time": "2023-10-20T07:23:41.481172200Z"
    }
   },
   "id": "fe6bd9042778bb54"
  },
  {
   "cell_type": "code",
   "execution_count": null,
   "outputs": [],
   "source": [
    "counts.columns = ['Spot_'+str(x) for x in counts.columns]\n",
    "coor_df.index = coor_df['label'].map(lambda x: 'Spot_'+str(x))\n",
    "coor_df = coor_df.loc[:, ['x','y']]"
   ],
   "metadata": {
    "collapsed": false,
    "ExecuteTime": {
     "start_time": "2023-10-20T07:23:41.482170Z"
    }
   },
   "id": "395617c1b5ba23d1"
  },
  {
   "cell_type": "code",
   "execution_count": null,
   "outputs": [],
   "source": [
    "coor_df.head()"
   ],
   "metadata": {
    "collapsed": false,
    "ExecuteTime": {
     "start_time": "2023-10-20T07:23:41.482170Z"
    }
   },
   "id": "3e8c9cae9c88885b"
  },
  {
   "cell_type": "code",
   "execution_count": null,
   "outputs": [],
   "source": [
    "adata = sc.AnnData(counts.T)\n",
    "adata.var_names_make_unique()"
   ],
   "metadata": {
    "collapsed": false,
    "ExecuteTime": {
     "start_time": "2023-10-20T07:23:41.482170Z"
    }
   },
   "id": "b65a30227dafd40c"
  },
  {
   "cell_type": "code",
   "execution_count": null,
   "outputs": [],
   "source": [
    "adata"
   ],
   "metadata": {
    "collapsed": false,
    "ExecuteTime": {
     "start_time": "2023-10-20T07:23:41.482170Z"
    }
   },
   "id": "ff0c816a0882391f"
  },
  {
   "cell_type": "code",
   "execution_count": null,
   "outputs": [],
   "source": [
    "coor_df = coor_df.loc[adata.obs_names, ['y', 'x']]\n",
    "adata.obsm[\"spatial\"] = coor_df.to_numpy()\n",
    "sc.pp.calculate_qc_metrics(adata, inplace=True)"
   ],
   "metadata": {
    "collapsed": false,
    "ExecuteTime": {
     "start_time": "2023-10-20T07:23:41.482170Z"
    }
   },
   "id": "1d482ead71d203dd"
  },
  {
   "cell_type": "code",
   "execution_count": null,
   "outputs": [],
   "source": [
    "plt.rcParams[\"figure.figsize\"] = (5,4)\n",
    "sc.pl.embedding(adata, basis=\"spatial\", color=\"n_genes_by_counts\", show=False)\n",
    "plt.title(\"\")\n",
    "plt.axis('off')"
   ],
   "metadata": {
    "collapsed": false,
    "ExecuteTime": {
     "start_time": "2023-10-20T07:23:41.482170Z"
    }
   },
   "id": "eb75463adf42432c"
  },
  {
   "cell_type": "code",
   "execution_count": null,
   "outputs": [],
   "source": [
    "used_barcode = pd.read_csv(os.path.join(input_dir, 'used_barcodes.txt'), sep='\\t', header=None)\n",
    "used_barcode = used_barcode[0]\n",
    "adata = adata[used_barcode,]"
   ],
   "metadata": {
    "collapsed": false,
    "ExecuteTime": {
     "start_time": "2023-10-20T07:23:41.482170Z"
    }
   },
   "id": "f195663924865f53"
  },
  {
   "cell_type": "code",
   "execution_count": null,
   "outputs": [],
   "source": [
    "adata"
   ],
   "metadata": {
    "collapsed": false,
    "ExecuteTime": {
     "start_time": "2023-10-20T07:23:41.482170Z"
    }
   },
   "id": "79e01454b7efe2d4"
  },
  {
   "cell_type": "code",
   "execution_count": null,
   "outputs": [],
   "source": [
    "plt.rcParams[\"figure.figsize\"] = (5,4)\n",
    "sc.pl.embedding(adata, basis=\"spatial\", color=\"n_genes_by_counts\", show=False)\n",
    "plt.title(\"\")\n",
    "plt.axis('off')"
   ],
   "metadata": {
    "collapsed": false,
    "ExecuteTime": {
     "start_time": "2023-10-20T07:23:41.483170400Z"
    }
   },
   "id": "ad72dd6708770180"
  },
  {
   "cell_type": "code",
   "execution_count": null,
   "outputs": [],
   "source": [
    "sc.pp.filter_genes(adata, min_cells=50)\n",
    "print('After flitering: ', adata.shape)"
   ],
   "metadata": {
    "collapsed": false,
    "ExecuteTime": {
     "start_time": "2023-10-20T07:23:41.483170400Z"
    }
   },
   "id": "e3390dfcb915170c"
  },
  {
   "cell_type": "code",
   "execution_count": null,
   "outputs": [],
   "source": [
    "# make spot name unique\n",
    "adata.obs_names = [x+'_StereoSeq' for x in adata.obs_names]"
   ],
   "metadata": {
    "collapsed": false,
    "ExecuteTime": {
     "start_time": "2023-10-20T07:23:41.483170400Z"
    }
   },
   "id": "5bfb72481ea0b828"
  },
  {
   "cell_type": "code",
   "execution_count": null,
   "outputs": [],
   "source": [
    "adata_list['StereoSeq'] = adata.copy()"
   ],
   "metadata": {
    "collapsed": false,
    "ExecuteTime": {
     "start_time": "2023-10-20T07:23:41.483170400Z"
    }
   },
   "id": "9a4cd544edf8eddb"
  },
  {
   "cell_type": "markdown",
   "source": [
    "# Constructing the spatial network for each secion\n",
    "\n",
    "## Slide-seqV2"
   ],
   "metadata": {
    "collapsed": false
   },
   "id": "10aa46f9394bf04b"
  },
  {
   "cell_type": "code",
   "execution_count": null,
   "outputs": [],
   "source": [
    "STAGATE.Cal_Spatial_Net(adata_list['SlideSeqV2'], rad_cutoff=50)\n",
    "STAGATE.Stats_Spatial_Net(adata_list['SlideSeqV2'])"
   ],
   "metadata": {
    "collapsed": false,
    "ExecuteTime": {
     "start_time": "2023-10-20T07:23:41.483170400Z"
    }
   },
   "id": "18bc9d2267a3cff9"
  },
  {
   "cell_type": "code",
   "execution_count": null,
   "outputs": [],
   "source": [
    "STAGATE.Cal_Spatial_Net(adata_list['StereoSeq'], rad_cutoff=50)\n",
    "STAGATE.Stats_Spatial_Net(adata_list['StereoSeq'])"
   ],
   "metadata": {
    "collapsed": false,
    "ExecuteTime": {
     "start_time": "2023-10-20T07:23:41.483170400Z"
    }
   },
   "id": "9da56657bf0f20a5"
  },
  {
   "cell_type": "markdown",
   "source": [
    "# Note that the spatial network are saved in adata.uns[‘Spatial_Net’], which can be conbat directly for multiple sections."
   ],
   "metadata": {
    "collapsed": false
   },
   "id": "857c5378b1d258a9"
  },
  {
   "cell_type": "code",
   "execution_count": null,
   "outputs": [],
   "source": [
    "adata_list['SlideSeqV2'].uns['Spatial_Net']"
   ],
   "metadata": {
    "collapsed": false,
    "ExecuteTime": {
     "start_time": "2023-10-20T07:23:41.483170400Z"
    }
   },
   "id": "cad9757db0a40e5d"
  },
  {
   "cell_type": "markdown",
   "source": [
    "# Conbat the scanpy objects and spatial networks"
   ],
   "metadata": {
    "collapsed": false
   },
   "id": "c977d8f698f03954"
  },
  {
   "cell_type": "code",
   "execution_count": null,
   "outputs": [],
   "source": [
    "adata = sc.concat([adata_list['SlideSeqV2'], adata_list['StereoSeq']], keys=None)"
   ],
   "metadata": {
    "collapsed": false,
    "ExecuteTime": {
     "start_time": "2023-10-20T07:23:41.483170400Z"
    }
   },
   "id": "761ac933f6a05a34"
  },
  {
   "cell_type": "code",
   "execution_count": null,
   "outputs": [],
   "source": [
    "adata.uns['Spatial_Net'] = pd.concat([adata_list['SlideSeqV2'].uns['Spatial_Net'], adata_list['StereoSeq'].uns['Spatial_Net']])"
   ],
   "metadata": {
    "collapsed": false,
    "ExecuteTime": {
     "start_time": "2023-10-20T07:23:41.483170400Z"
    }
   },
   "id": "d2c81aa87edcdf46"
  },
  {
   "cell_type": "code",
   "execution_count": null,
   "outputs": [],
   "source": [
    "STAGATE.Stats_Spatial_Net(adata)"
   ],
   "metadata": {
    "collapsed": false,
    "ExecuteTime": {
     "start_time": "2023-10-20T07:23:41.484169200Z"
    }
   },
   "id": "1841812d2abc46e"
  },
  {
   "cell_type": "markdown",
   "source": [
    "# Normalization"
   ],
   "metadata": {
    "collapsed": false
   },
   "id": "335b8871e9e5abd9"
  },
  {
   "cell_type": "code",
   "execution_count": null,
   "outputs": [],
   "source": [
    "#Normalization\n",
    "sc.pp.highly_variable_genes(adata, flavor=\"seurat_v3\", n_top_genes=3000)\n",
    "sc.pp.normalize_total(adata, target_sum=1e4)\n",
    "sc.pp.log1p(adata)"
   ],
   "metadata": {
    "collapsed": false,
    "ExecuteTime": {
     "start_time": "2023-10-20T07:23:41.484169200Z"
    }
   },
   "id": "4e7827d2aaa4c859"
  },
  {
   "cell_type": "markdown",
   "source": [
    "# Running STAGATE"
   ],
   "metadata": {
    "collapsed": false
   },
   "id": "df478451d0e3f6ce"
  },
  {
   "cell_type": "code",
   "execution_count": null,
   "outputs": [],
   "source": [
    "adata = STAGATE.train_STAGATE(adata, alpha=0)"
   ],
   "metadata": {
    "collapsed": false,
    "ExecuteTime": {
     "start_time": "2023-10-20T07:23:41.484169200Z"
    }
   },
   "id": "35a589271c7e6e2c"
  },
  {
   "cell_type": "code",
   "execution_count": null,
   "outputs": [],
   "source": [
    "sc.pp.neighbors(adata, use_rep='STAGATE')\n",
    "sc.tl.umap(adata)"
   ],
   "metadata": {
    "collapsed": false,
    "ExecuteTime": {
     "start_time": "2023-10-20T07:23:41.520709900Z"
    }
   },
   "id": "eee8af8bc728869a"
  },
  {
   "cell_type": "code",
   "execution_count": null,
   "outputs": [],
   "source": [
    "adata.obs['Tech'] = [x.split('_')[-1] for x in adata.obs_names]"
   ],
   "metadata": {
    "collapsed": false,
    "ExecuteTime": {
     "start_time": "2023-10-20T07:23:41.520709900Z"
    }
   },
   "id": "a6cd524dba9a5b50"
  },
  {
   "cell_type": "code",
   "execution_count": null,
   "outputs": [],
   "source": [
    "plt.rcParams[\"figure.figsize\"] = (3, 3)\n",
    "sc.pl.umap(adata, color='Tech', title='Unintegrated')"
   ],
   "metadata": {
    "collapsed": false,
    "ExecuteTime": {
     "start_time": "2023-10-20T07:23:41.520709900Z"
    }
   },
   "id": "fafd611a2bcbf006"
  },
  {
   "cell_type": "markdown",
   "source": [
    "# Run Harmony on the STAGATE represention"
   ],
   "metadata": {
    "collapsed": false
   },
   "id": "898bb30b4ed23816"
  },
  {
   "cell_type": "code",
   "execution_count": null,
   "outputs": [],
   "source": [
    "import harmonypy as hm "
   ],
   "metadata": {
    "collapsed": false,
    "ExecuteTime": {
     "start_time": "2023-10-20T07:23:41.520709900Z"
    }
   },
   "id": "1d1a0d8f571a77f"
  },
  {
   "cell_type": "code",
   "execution_count": null,
   "outputs": [],
   "source": [
    "data_mat = adata.obsm['STAGATE'].copy()\n",
    "meta_data = adata.obs.copy()"
   ],
   "metadata": {
    "collapsed": false,
    "ExecuteTime": {
     "start_time": "2023-10-20T07:23:41.520709900Z"
    }
   },
   "id": "5badcedda6f1669"
  },
  {
   "cell_type": "code",
   "execution_count": null,
   "outputs": [],
   "source": [
    "# Run Harmony\n",
    "ho = hm.run_harmony(data_mat, meta_data, ['Tech'])"
   ],
   "metadata": {
    "collapsed": false,
    "ExecuteTime": {
     "start_time": "2023-10-20T07:23:41.520709900Z"
    }
   },
   "id": "8a347d038215cc54"
  },
  {
   "cell_type": "code",
   "execution_count": null,
   "outputs": [],
   "source": [
    "# Write the adjusted PCs to a new file.\n",
    "res = pd.DataFrame(ho.Z_corr)\n",
    "res.columns = adata.obs_names"
   ],
   "metadata": {
    "collapsed": false,
    "ExecuteTime": {
     "start_time": "2023-10-20T07:23:41.521710900Z"
    }
   },
   "id": "c86cf8ee589413d"
  },
  {
   "cell_type": "code",
   "execution_count": null,
   "outputs": [],
   "source": [
    "adata_Harmony = sc.AnnData(res.T)"
   ],
   "metadata": {
    "collapsed": false,
    "ExecuteTime": {
     "start_time": "2023-10-20T07:23:41.521710900Z"
    }
   },
   "id": "5cb7183b5f9b5a3e"
  },
  {
   "cell_type": "code",
   "execution_count": null,
   "outputs": [],
   "source": [
    "adata_Harmony.obsm['spatial'] = pd.DataFrame(adata.obsm['spatial'], index=adata.obs_names).loc[adata_Harmony.obs_names,].values\n",
    "adata_Harmony.obs['Tech'] = adata.obs.loc[adata_Harmony.obs_names, 'Tech']"
   ],
   "metadata": {
    "collapsed": false,
    "ExecuteTime": {
     "start_time": "2023-10-20T07:23:41.521710900Z"
    }
   },
   "id": "823a37af566968e0"
  },
  {
   "cell_type": "code",
   "execution_count": null,
   "outputs": [],
   "source": [
    "sc.pp.neighbors(adata_Harmony)\n",
    "sc.tl.umap(adata_Harmony)"
   ],
   "metadata": {
    "collapsed": false,
    "ExecuteTime": {
     "start_time": "2023-10-20T07:23:41.521710900Z"
    }
   },
   "id": "9859c1cb9e329f78"
  },
  {
   "cell_type": "code",
   "execution_count": null,
   "outputs": [],
   "source": [
    "sc.tl.louvain(adata_Harmony, resolution=0.8)"
   ],
   "metadata": {
    "collapsed": false,
    "ExecuteTime": {
     "start_time": "2023-10-20T07:23:41.521710900Z"
    }
   },
   "id": "bb7f38798aa8bb08"
  },
  {
   "cell_type": "code",
   "execution_count": null,
   "outputs": [],
   "source": [
    "plt.rcParams[\"figure.figsize\"] = (3, 3)\n",
    "sc.pl.umap(adata_Harmony, color='Tech', title='STAGATE + Harmony')"
   ],
   "metadata": {
    "collapsed": false,
    "ExecuteTime": {
     "start_time": "2023-10-20T07:23:41.521710900Z"
    }
   },
   "id": "25c6d18c402c3e8d"
  },
  {
   "cell_type": "code",
   "execution_count": null,
   "outputs": [],
   "source": [
    "plt.rcParams[\"figure.figsize\"] = (3, 3)\n",
    "sc.pl.umap(adata_Harmony, color='louvain')"
   ],
   "metadata": {
    "collapsed": false,
    "ExecuteTime": {
     "start_time": "2023-10-20T07:23:41.521710900Z"
    }
   },
   "id": "1cbfd78ec754ee10"
  },
  {
   "cell_type": "code",
   "execution_count": null,
   "outputs": [],
   "source": [
    "fig, axs = plt.subplots(1, 2, figsize=(6, 3))\n",
    "it=0\n",
    "for temp_tech in ['StereoSeq', 'SlideSeqV2']:\n",
    "    temp_adata = adata_Harmony[adata_Harmony.obs['Tech']==temp_tech, ]\n",
    "    if it == 1:\n",
    "        sc.pl.embedding(temp_adata, basis=\"spatial\", color=\"louvain\",s=6, ax=axs[it],\n",
    "                        show=False, title=temp_tech)\n",
    "    else:\n",
    "        sc.pl.embedding(temp_adata, basis=\"spatial\", color=\"louvain\",s=6, ax=axs[it], legend_loc=None,\n",
    "                        show=False, title=temp_tech)\n",
    "    it+=1"
   ],
   "metadata": {
    "collapsed": false,
    "ExecuteTime": {
     "start_time": "2023-10-20T07:23:41.521710900Z"
    }
   },
   "id": "9f67d9abff7988de"
  }
 ],
 "metadata": {
  "kernelspec": {
   "display_name": "Python 3",
   "language": "python",
   "name": "python3"
  },
  "language_info": {
   "codemirror_mode": {
    "name": "ipython",
    "version": 2
   },
   "file_extension": ".py",
   "mimetype": "text/x-python",
   "name": "python",
   "nbconvert_exporter": "python",
   "pygments_lexer": "ipython2",
   "version": "2.7.6"
  }
 },
 "nbformat": 4,
 "nbformat_minor": 5
}
