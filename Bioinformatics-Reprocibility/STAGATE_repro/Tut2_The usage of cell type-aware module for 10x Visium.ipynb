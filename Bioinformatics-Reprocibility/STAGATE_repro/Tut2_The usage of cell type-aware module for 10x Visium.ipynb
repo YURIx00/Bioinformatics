{
 "cells": [
  {
   "cell_type": "markdown",
   "source": [
    "# Preparation"
   ],
   "metadata": {
    "collapsed": false
   },
   "id": "4933f91d2500d696"
  },
  {
   "cell_type": "code",
   "execution_count": 7,
   "outputs": [],
   "source": [
    "import warnings\n",
    "warnings.filterwarnings(\"ignore\")"
   ],
   "metadata": {
    "collapsed": false,
    "ExecuteTime": {
     "end_time": "2023-10-20T07:05:50.690001700Z",
     "start_time": "2023-10-20T07:05:50.226508500Z"
    }
   },
   "id": "edebcff8a0c700aa"
  },
  {
   "cell_type": "code",
   "execution_count": 8,
   "id": "initial_id",
   "metadata": {
    "collapsed": true,
    "ExecuteTime": {
     "end_time": "2023-10-20T07:05:50.782061200Z",
     "start_time": "2023-10-20T07:05:50.232527900Z"
    }
   },
   "outputs": [],
   "source": [
    "import pandas as pd\n",
    "import numpy as np\n",
    "import scanpy as sc\n",
    "import matplotlib.pyplot as plt\n",
    "import os\n",
    "import sys"
   ]
  },
  {
   "cell_type": "code",
   "execution_count": 9,
   "outputs": [],
   "source": [
    "import STAGATE"
   ],
   "metadata": {
    "collapsed": false,
    "ExecuteTime": {
     "end_time": "2023-10-20T07:05:50.783051Z",
     "start_time": "2023-10-20T07:05:50.278856800Z"
    }
   },
   "id": "10053cfcad4092af"
  },
  {
   "cell_type": "code",
   "execution_count": 10,
   "outputs": [],
   "source": [
    "os.environ[\"CUDA_DEVICE_ORDER\"] = \"PCI_BUS_ID\"\n",
    "os.environ[\"CUDA_VISIBLE_DEVICES\"] = \"0\""
   ],
   "metadata": {
    "collapsed": false,
    "ExecuteTime": {
     "end_time": "2023-10-20T07:05:50.783051Z",
     "start_time": "2023-10-20T07:05:50.279860700Z"
    }
   },
   "id": "172c6ce258c85ff0"
  },
  {
   "cell_type": "code",
   "execution_count": 11,
   "outputs": [],
   "source": [
    "input_dir = '/home/zbdc/github/Data/Adult_Mouse_Brain_Section1_(Coronal)/10x_Visium'"
   ],
   "metadata": {
    "collapsed": false,
    "ExecuteTime": {
     "end_time": "2023-10-20T07:05:50.783051Z",
     "start_time": "2023-10-20T07:05:50.279860700Z"
    }
   },
   "id": "3277dc8e1721c717"
  },
  {
   "cell_type": "code",
   "execution_count": 12,
   "outputs": [
    {
     "ename": "FileNotFoundError",
     "evalue": "[Errno 2] Unable to open file (unable to open file: name = '/homd/zbdc/github/Data/Adult_Mouse_Brain_Section1_(Coronal)/10x Visium/V1_Adult_Mouse_Brain_Coronal_Section_1_filtered_feature_bc_matrix.h5', errno = 2, error message = 'No such file or directory', flags = 0, o_flags = 0)",
     "output_type": "error",
     "traceback": [
      "\u001B[0;31m---------------------------------------------------------------------------\u001B[0m",
      "\u001B[0;31mFileNotFoundError\u001B[0m                         Traceback (most recent call last)",
      "\u001B[0;32m/tmp/ipykernel_1282350/1561738877.py\u001B[0m in \u001B[0;36m<module>\u001B[0;34m\u001B[0m\n\u001B[0;32m----> 1\u001B[0;31m \u001B[0madata\u001B[0m \u001B[0;34m=\u001B[0m \u001B[0msc\u001B[0m\u001B[0;34m.\u001B[0m\u001B[0mread_visium\u001B[0m\u001B[0;34m(\u001B[0m\u001B[0mpath\u001B[0m\u001B[0;34m=\u001B[0m\u001B[0minput_dir\u001B[0m\u001B[0;34m,\u001B[0m \u001B[0mcount_file\u001B[0m\u001B[0;34m=\u001B[0m\u001B[0;34m'V1_Adult_Mouse_Brain_Coronal_Section_1_filtered_feature_bc_matrix.h5'\u001B[0m\u001B[0;34m)\u001B[0m\u001B[0;34m\u001B[0m\u001B[0m\n\u001B[0m\u001B[1;32m      2\u001B[0m \u001B[0madata\u001B[0m\u001B[0;34m.\u001B[0m\u001B[0mvar_names_make_unique\u001B[0m\u001B[0;34m(\u001B[0m\u001B[0;34m)\u001B[0m\u001B[0;34m\u001B[0m\u001B[0m\n",
      "\u001B[0;32m~/miniconda3/envs/STAGATE_env/lib/python3.7/site-packages/scanpy/readwrite.py\u001B[0m in \u001B[0;36mread_visium\u001B[0;34m(path, genome, count_file, library_id, load_images, source_image_path)\u001B[0m\n\u001B[1;32m    358\u001B[0m     \"\"\"\n\u001B[1;32m    359\u001B[0m     \u001B[0mpath\u001B[0m \u001B[0;34m=\u001B[0m \u001B[0mPath\u001B[0m\u001B[0;34m(\u001B[0m\u001B[0mpath\u001B[0m\u001B[0;34m)\u001B[0m\u001B[0;34m\u001B[0m\u001B[0m\n\u001B[0;32m--> 360\u001B[0;31m     \u001B[0madata\u001B[0m \u001B[0;34m=\u001B[0m \u001B[0mread_10x_h5\u001B[0m\u001B[0;34m(\u001B[0m\u001B[0mpath\u001B[0m \u001B[0;34m/\u001B[0m \u001B[0mcount_file\u001B[0m\u001B[0;34m,\u001B[0m \u001B[0mgenome\u001B[0m\u001B[0;34m=\u001B[0m\u001B[0mgenome\u001B[0m\u001B[0;34m)\u001B[0m\u001B[0;34m\u001B[0m\u001B[0m\n\u001B[0m\u001B[1;32m    361\u001B[0m \u001B[0;34m\u001B[0m\u001B[0m\n\u001B[1;32m    362\u001B[0m     \u001B[0madata\u001B[0m\u001B[0;34m.\u001B[0m\u001B[0muns\u001B[0m\u001B[0;34m[\u001B[0m\u001B[0;34m\"spatial\"\u001B[0m\u001B[0;34m]\u001B[0m \u001B[0;34m=\u001B[0m \u001B[0mdict\u001B[0m\u001B[0;34m(\u001B[0m\u001B[0;34m)\u001B[0m\u001B[0;34m\u001B[0m\u001B[0m\n",
      "\u001B[0;32m~/miniconda3/envs/STAGATE_env/lib/python3.7/site-packages/scanpy/readwrite.py\u001B[0m in \u001B[0;36mread_10x_h5\u001B[0;34m(filename, genome, gex_only, backup_url)\u001B[0m\n\u001B[1;32m    178\u001B[0m     \u001B[0;32mif\u001B[0m \u001B[0;32mnot\u001B[0m \u001B[0mis_present\u001B[0m\u001B[0;34m:\u001B[0m\u001B[0;34m\u001B[0m\u001B[0m\n\u001B[1;32m    179\u001B[0m         \u001B[0mlogg\u001B[0m\u001B[0;34m.\u001B[0m\u001B[0mdebug\u001B[0m\u001B[0;34m(\u001B[0m\u001B[0;34mf'... did not find original file {filename}'\u001B[0m\u001B[0;34m)\u001B[0m\u001B[0;34m\u001B[0m\u001B[0m\n\u001B[0;32m--> 180\u001B[0;31m     \u001B[0;32mwith\u001B[0m \u001B[0mh5py\u001B[0m\u001B[0;34m.\u001B[0m\u001B[0mFile\u001B[0m\u001B[0;34m(\u001B[0m\u001B[0mstr\u001B[0m\u001B[0;34m(\u001B[0m\u001B[0mfilename\u001B[0m\u001B[0;34m)\u001B[0m\u001B[0;34m,\u001B[0m \u001B[0;34m'r'\u001B[0m\u001B[0;34m)\u001B[0m \u001B[0;32mas\u001B[0m \u001B[0mf\u001B[0m\u001B[0;34m:\u001B[0m\u001B[0;34m\u001B[0m\u001B[0m\n\u001B[0m\u001B[1;32m    181\u001B[0m         \u001B[0mv3\u001B[0m \u001B[0;34m=\u001B[0m \u001B[0;34m'/matrix'\u001B[0m \u001B[0;32min\u001B[0m \u001B[0mf\u001B[0m\u001B[0;34m\u001B[0m\u001B[0m\n\u001B[1;32m    182\u001B[0m     \u001B[0;32mif\u001B[0m \u001B[0mv3\u001B[0m\u001B[0;34m:\u001B[0m\u001B[0;34m\u001B[0m\u001B[0m\n",
      "\u001B[0;32m~/miniconda3/envs/STAGATE_env/lib/python3.7/site-packages/h5py/_hl/files.py\u001B[0m in \u001B[0;36m__init__\u001B[0;34m(self, name, mode, driver, libver, userblock_size, swmr, rdcc_nslots, rdcc_nbytes, rdcc_w0, track_order, fs_strategy, fs_persist, fs_threshold, fs_page_size, page_buf_size, min_meta_keep, min_raw_keep, locking, alignment_threshold, alignment_interval, meta_block_size, **kwds)\u001B[0m\n\u001B[1;32m    565\u001B[0m                                  \u001B[0mfs_persist\u001B[0m\u001B[0;34m=\u001B[0m\u001B[0mfs_persist\u001B[0m\u001B[0;34m,\u001B[0m \u001B[0mfs_threshold\u001B[0m\u001B[0;34m=\u001B[0m\u001B[0mfs_threshold\u001B[0m\u001B[0;34m,\u001B[0m\u001B[0;34m\u001B[0m\u001B[0m\n\u001B[1;32m    566\u001B[0m                                  fs_page_size=fs_page_size)\n\u001B[0;32m--> 567\u001B[0;31m                 \u001B[0mfid\u001B[0m \u001B[0;34m=\u001B[0m \u001B[0mmake_fid\u001B[0m\u001B[0;34m(\u001B[0m\u001B[0mname\u001B[0m\u001B[0;34m,\u001B[0m \u001B[0mmode\u001B[0m\u001B[0;34m,\u001B[0m \u001B[0muserblock_size\u001B[0m\u001B[0;34m,\u001B[0m \u001B[0mfapl\u001B[0m\u001B[0;34m,\u001B[0m \u001B[0mfcpl\u001B[0m\u001B[0;34m,\u001B[0m \u001B[0mswmr\u001B[0m\u001B[0;34m=\u001B[0m\u001B[0mswmr\u001B[0m\u001B[0;34m)\u001B[0m\u001B[0;34m\u001B[0m\u001B[0m\n\u001B[0m\u001B[1;32m    568\u001B[0m \u001B[0;34m\u001B[0m\u001B[0m\n\u001B[1;32m    569\u001B[0m             \u001B[0;32mif\u001B[0m \u001B[0misinstance\u001B[0m\u001B[0;34m(\u001B[0m\u001B[0mlibver\u001B[0m\u001B[0;34m,\u001B[0m \u001B[0mtuple\u001B[0m\u001B[0;34m)\u001B[0m\u001B[0;34m:\u001B[0m\u001B[0;34m\u001B[0m\u001B[0m\n",
      "\u001B[0;32m~/miniconda3/envs/STAGATE_env/lib/python3.7/site-packages/h5py/_hl/files.py\u001B[0m in \u001B[0;36mmake_fid\u001B[0;34m(name, mode, userblock_size, fapl, fcpl, swmr)\u001B[0m\n\u001B[1;32m    229\u001B[0m         \u001B[0;32mif\u001B[0m \u001B[0mswmr\u001B[0m \u001B[0;32mand\u001B[0m \u001B[0mswmr_support\u001B[0m\u001B[0;34m:\u001B[0m\u001B[0;34m\u001B[0m\u001B[0m\n\u001B[1;32m    230\u001B[0m             \u001B[0mflags\u001B[0m \u001B[0;34m|=\u001B[0m \u001B[0mh5f\u001B[0m\u001B[0;34m.\u001B[0m\u001B[0mACC_SWMR_READ\u001B[0m\u001B[0;34m\u001B[0m\u001B[0m\n\u001B[0;32m--> 231\u001B[0;31m         \u001B[0mfid\u001B[0m \u001B[0;34m=\u001B[0m \u001B[0mh5f\u001B[0m\u001B[0;34m.\u001B[0m\u001B[0mopen\u001B[0m\u001B[0;34m(\u001B[0m\u001B[0mname\u001B[0m\u001B[0;34m,\u001B[0m \u001B[0mflags\u001B[0m\u001B[0;34m,\u001B[0m \u001B[0mfapl\u001B[0m\u001B[0;34m=\u001B[0m\u001B[0mfapl\u001B[0m\u001B[0;34m)\u001B[0m\u001B[0;34m\u001B[0m\u001B[0m\n\u001B[0m\u001B[1;32m    232\u001B[0m     \u001B[0;32melif\u001B[0m \u001B[0mmode\u001B[0m \u001B[0;34m==\u001B[0m \u001B[0;34m'r+'\u001B[0m\u001B[0;34m:\u001B[0m\u001B[0;34m\u001B[0m\u001B[0m\n\u001B[1;32m    233\u001B[0m         \u001B[0mfid\u001B[0m \u001B[0;34m=\u001B[0m \u001B[0mh5f\u001B[0m\u001B[0;34m.\u001B[0m\u001B[0mopen\u001B[0m\u001B[0;34m(\u001B[0m\u001B[0mname\u001B[0m\u001B[0;34m,\u001B[0m \u001B[0mh5f\u001B[0m\u001B[0;34m.\u001B[0m\u001B[0mACC_RDWR\u001B[0m\u001B[0;34m,\u001B[0m \u001B[0mfapl\u001B[0m\u001B[0;34m=\u001B[0m\u001B[0mfapl\u001B[0m\u001B[0;34m)\u001B[0m\u001B[0;34m\u001B[0m\u001B[0m\n",
      "\u001B[0;32mh5py/_objects.pyx\u001B[0m in \u001B[0;36mh5py._objects.with_phil.wrapper\u001B[0;34m()\u001B[0m\n",
      "\u001B[0;32mh5py/_objects.pyx\u001B[0m in \u001B[0;36mh5py._objects.with_phil.wrapper\u001B[0;34m()\u001B[0m\n",
      "\u001B[0;32mh5py/h5f.pyx\u001B[0m in \u001B[0;36mh5py.h5f.open\u001B[0;34m()\u001B[0m\n",
      "\u001B[0;31mFileNotFoundError\u001B[0m: [Errno 2] Unable to open file (unable to open file: name = '/homd/zbdc/github/Data/Adult_Mouse_Brain_Section1_(Coronal)/10x Visium/V1_Adult_Mouse_Brain_Coronal_Section_1_filtered_feature_bc_matrix.h5', errno = 2, error message = 'No such file or directory', flags = 0, o_flags = 0)"
     ]
    }
   ],
   "source": [
    "adata = sc.read_visium(path=input_dir, count_file='V1_Adult_Mouse_Brain_Coronal_Section_1_filtered_feature_bc_matrix.h5')\n",
    "adata.var_names_make_unique()"
   ],
   "metadata": {
    "collapsed": false,
    "ExecuteTime": {
     "end_time": "2023-10-20T07:05:50.783051Z",
     "start_time": "2023-10-20T07:05:50.279860700Z"
    }
   },
   "id": "f018c6654cdd2931"
  },
  {
   "cell_type": "code",
   "execution_count": null,
   "outputs": [],
   "source": [
    "adata"
   ],
   "metadata": {
    "collapsed": false,
    "ExecuteTime": {
     "start_time": "2023-10-20T07:05:50.349723Z"
    }
   },
   "id": "cd43da33263991df"
  },
  {
   "cell_type": "code",
   "execution_count": null,
   "outputs": [],
   "source": [
    "#Normalization\n",
    "sc.pp.highly_variable_genes(adata, flavor=\"seurat_v3\", n_top_genes=3000)\n",
    "sc.pp.normalize_total(adata, target_sum=1e4)\n",
    "sc.pp.log1p(adata)"
   ],
   "metadata": {
    "collapsed": false,
    "ExecuteTime": {
     "start_time": "2023-10-20T07:05:50.392136400Z"
    }
   },
   "id": "594a9f9a00edc13a"
  },
  {
   "cell_type": "code",
   "execution_count": null,
   "outputs": [],
   "source": [
    "plt.rcParams[\"figure.figsize\"] = (3, 3)\n",
    "sc.pl.spatial(adata, img_key=\"hires\")"
   ],
   "metadata": {
    "collapsed": false,
    "ExecuteTime": {
     "start_time": "2023-10-20T07:05:50.393137300Z"
    }
   },
   "id": "7772d456ab6ef1e0"
  },
  {
   "cell_type": "code",
   "execution_count": null,
   "outputs": [],
   "source": [
    "STAGATE.Cal_Spatial_Net(adata, rad_cutoff=300)\n",
    "STAGATE.Stats_Spatial_Net(adata)"
   ],
   "metadata": {
    "collapsed": false,
    "ExecuteTime": {
     "start_time": "2023-10-20T07:05:50.393137300Z"
    }
   },
   "id": "cce27d1a45e96772"
  },
  {
   "cell_type": "code",
   "execution_count": null,
   "outputs": [],
   "source": [
    "adata = STAGATE.train_STAGATE(adata, alpha=0.5, pre_resolution=0.2,\n",
    "                              n_epochs=1000, save_attention=True)"
   ],
   "metadata": {
    "collapsed": false,
    "ExecuteTime": {
     "start_time": "2023-10-20T07:05:50.394146300Z"
    }
   },
   "id": "347955095cd54afd"
  },
  {
   "cell_type": "code",
   "execution_count": null,
   "outputs": [],
   "source": [
    "# pre-clustering result\n",
    "plt.rcParams[\"figure.figsize\"] = (3, 3)\n",
    "sc.pl.spatial(adata, img_key=\"hires\", color=\"expression_louvain_label\", size=1.5, title='pre-clustering result')"
   ],
   "metadata": {
    "collapsed": false,
    "ExecuteTime": {
     "start_time": "2023-10-20T07:05:50.394146300Z"
    }
   },
   "id": "c98d1389c74e7139"
  },
  {
   "cell_type": "code",
   "execution_count": null,
   "outputs": [],
   "source": [
    "sc.pp.neighbors(adata, use_rep='STAGATE')\n",
    "sc.tl.umap(adata)\n",
    "sc.tl.louvain(adata, resolution=1)"
   ],
   "metadata": {
    "collapsed": false,
    "ExecuteTime": {
     "start_time": "2023-10-20T07:05:50.394146300Z"
    }
   },
   "id": "fe510a5b3b0bf1ac"
  },
  {
   "cell_type": "code",
   "execution_count": null,
   "outputs": [],
   "source": [
    "adata.uns['louvain_colors']=['#aec7e8', '#9edae5', '#d62728', '#dbdb8d', '#ff9896',\n",
    "                             '#8c564b', '#696969', '#778899', '#17becf', '#ffbb78',\n",
    "                             '#e377c2', '#98df8a', '#aa40fc', '#c5b0d5', '#c49c94',\n",
    "                             '#f7b6d2', '#279e68', '#b5bd61', '#ad494a', '#8c6d31',\n",
    "                             '#1f77b4', '#ff7f0e']"
   ],
   "metadata": {
    "collapsed": false,
    "ExecuteTime": {
     "start_time": "2023-10-20T07:05:50.394146300Z"
    }
   },
   "id": "24b7dd312f354a18"
  },
  {
   "cell_type": "code",
   "execution_count": null,
   "outputs": [],
   "source": [
    "plt.rcParams[\"figure.figsize\"] = (4, 4)\n",
    "sc.pl.spatial(adata, img_key=\"hires\", color=\"louvain\", size=1.5)"
   ],
   "metadata": {
    "collapsed": false,
    "ExecuteTime": {
     "start_time": "2023-10-20T07:05:50.394514100Z"
    }
   },
   "id": "530ad53e8e1c5094"
  },
  {
   "cell_type": "code",
   "execution_count": null,
   "outputs": [],
   "source": [
    "plt.rcParams[\"figure.figsize\"] = (3, 3)\n",
    "sc.pl.umap(adata, color=\"louvain\", legend_loc='on data', s=10)"
   ],
   "metadata": {
    "collapsed": false,
    "ExecuteTime": {
     "start_time": "2023-10-20T07:05:50.436058200Z"
    }
   },
   "id": "a32f63297dfbeb3a"
  },
  {
   "cell_type": "markdown",
   "source": [
    "# Visualization of the attention layer"
   ],
   "metadata": {
    "collapsed": false
   },
   "id": "beee77e6ce0326bf"
  },
  {
   "cell_type": "code",
   "execution_count": null,
   "outputs": [],
   "source": [
    "import matplotlib as mpl\n",
    "import networkx as nx"
   ],
   "metadata": {
    "collapsed": false,
    "ExecuteTime": {
     "start_time": "2023-10-20T07:05:50.436058200Z"
    }
   },
   "id": "1f5351fb448ea7c3"
  },
  {
   "cell_type": "code",
   "execution_count": null,
   "outputs": [],
   "source": [
    "att_df = pd.DataFrame(adata.uns['STAGATE_attention'][0].toarray(), index=adata.obs_names, columns=adata.obs_names)\n",
    "att_df = att_df.values\n",
    "for it in range(att_df.shape[0]):\n",
    "    att_df[it, it] = 0"
   ],
   "metadata": {
    "collapsed": false,
    "ExecuteTime": {
     "start_time": "2023-10-20T07:05:50.436058200Z"
    }
   },
   "id": "bcabc5eb3f691b22"
  },
  {
   "cell_type": "code",
   "execution_count": null,
   "outputs": [],
   "source": [
    "G_atten = nx.from_numpy_matrix(att_df)\n",
    "M = G_atten.number_of_edges()\n",
    "edge_colors = range(2, M + 2)"
   ],
   "metadata": {
    "collapsed": false,
    "ExecuteTime": {
     "start_time": "2023-10-20T07:05:50.436058200Z"
    }
   },
   "id": "298e2cf7de91e849"
  },
  {
   "cell_type": "code",
   "execution_count": null,
   "outputs": [],
   "source": [
    "coor_df = pd.DataFrame(adata.obsm['spatial'].copy(), index=adata.obs_names)\n",
    "coor_df[1] = -1 * coor_df[1]\n",
    "image_pos = dict(zip(range(coor_df.shape[0]), [np.array(coor_df.iloc[it,]) for it in range(coor_df.shape[0])]))"
   ],
   "metadata": {
    "collapsed": false,
    "ExecuteTime": {
     "start_time": "2023-10-20T07:05:50.436058200Z"
    }
   },
   "id": "bc1494161521028a"
  },
  {
   "cell_type": "code",
   "execution_count": null,
   "outputs": [],
   "source": [
    "labels = nx.get_edge_attributes(G_atten,'weight')"
   ],
   "metadata": {
    "collapsed": false,
    "ExecuteTime": {
     "start_time": "2023-10-20T07:05:50.436058200Z"
    }
   },
   "id": "41e30cd6cc30d1b1"
  },
  {
   "cell_type": "code",
   "execution_count": null,
   "outputs": [],
   "source": [
    "fig, ax = plt.subplots(figsize=[9,10])\n",
    "nx.draw_networkx_nodes(G_atten, image_pos, node_size=5, ax=ax)\n",
    "cmap = plt.cm.plasma\n",
    "edges = nx.draw_networkx_edges(G_atten, image_pos, edge_color=labels.values(),width=4, ax=ax,\n",
    "                               edge_cmap=cmap,edge_vmax=0.25,edge_vmin=0.05)\n",
    "ax = plt.gca()\n",
    "\n",
    "sm = plt.cm.ScalarMappable(cmap=cmap, norm=plt.Normalize(vmin = 0.05, vmax=0.25))\n",
    "sm._A = []\n",
    "plt.colorbar(sm)\n",
    "\n",
    "ax.set_axis_off()"
   ],
   "metadata": {
    "collapsed": false,
    "ExecuteTime": {
     "start_time": "2023-10-20T07:05:50.436058200Z"
    }
   },
   "id": "c54e14b394202300"
  },
  {
   "cell_type": "markdown",
   "source": [
    "# Running STAGATE without cell type-aware module (for comparison)"
   ],
   "metadata": {
    "collapsed": false
   },
   "id": "4129112b6229ff78"
  },
  {
   "cell_type": "code",
   "execution_count": null,
   "outputs": [],
   "source": [
    "adata = STAGATE.train_STAGATE(adata, alpha=0, n_epochs=1000, save_attention=True)"
   ],
   "metadata": {
    "collapsed": false,
    "ExecuteTime": {
     "start_time": "2023-10-20T07:05:50.436058200Z"
    }
   },
   "id": "b0f809f4d89fcc8"
  },
  {
   "cell_type": "code",
   "execution_count": null,
   "outputs": [],
   "source": [
    "sc.pp.neighbors(adata, use_rep='STAGATE')\n",
    "sc.tl.umap(adata)\n",
    "sc.tl.louvain(adata, resolution=1)"
   ],
   "metadata": {
    "collapsed": false,
    "ExecuteTime": {
     "start_time": "2023-10-20T07:05:50.436058200Z"
    }
   },
   "id": "1d0e3466b8841696"
  },
  {
   "cell_type": "code",
   "execution_count": null,
   "outputs": [],
   "source": [
    "adata.uns['louvain_colors']=['#aec7e8', '#9edae5', '#d62728', '#dbdb8d', '#ff9896',\n",
    "                             '#8c564b', '#696969', '#778899', '#17becf', '#ffbb78',\n",
    "                             '#e377c2', '#98df8a', '#aa40fc', '#c5b0d5', '#c49c94',\n",
    "                             '#f7b6d2', '#279e68', '#b5bd61', '#ad494a', '#8c6d31',\n",
    "                             '#1f77b4', '#ff7f0e']"
   ],
   "metadata": {
    "collapsed": false,
    "ExecuteTime": {
     "start_time": "2023-10-20T07:05:50.436058200Z"
    }
   },
   "id": "e4762407b2b79eb1"
  },
  {
   "cell_type": "code",
   "execution_count": null,
   "outputs": [],
   "source": [
    "plt.rcParams[\"figure.figsize\"] = (4, 4)\n",
    "sc.pl.spatial(adata, img_key=\"hires\", color=\"louvain\", size=1.5)"
   ],
   "metadata": {
    "collapsed": false,
    "ExecuteTime": {
     "start_time": "2023-10-20T07:05:50.436058200Z"
    }
   },
   "id": "b86f6963c700441d"
  },
  {
   "cell_type": "code",
   "execution_count": null,
   "outputs": [],
   "source": [
    "plt.rcParams[\"figure.figsize\"] = (3, 3)\n",
    "sc.pl.umap(adata, color=\"louvain\", legend_loc='on data', s=10)"
   ],
   "metadata": {
    "collapsed": false,
    "ExecuteTime": {
     "start_time": "2023-10-20T07:05:50.436058200Z"
    }
   },
   "id": "45697bfcd36485a6"
  },
  {
   "cell_type": "markdown",
   "source": [
    "# Visualization of the attention layer (without cell type-aware module)"
   ],
   "metadata": {
    "collapsed": false
   },
   "id": "9e0a4e55a9b9ae11"
  },
  {
   "cell_type": "code",
   "execution_count": null,
   "outputs": [],
   "source": [
    "att_df = pd.DataFrame(adata.uns['STAGATE_attention'][0].toarray(), index=adata.obs_names, columns=adata.obs_names)\n",
    "att_df = att_df.values\n",
    "for it in range(att_df.shape[0]):\n",
    "    att_df[it, it] = 0"
   ],
   "metadata": {
    "collapsed": false,
    "ExecuteTime": {
     "start_time": "2023-10-20T07:05:50.436058200Z"
    }
   },
   "id": "931abe0a06881027"
  },
  {
   "cell_type": "code",
   "execution_count": null,
   "outputs": [],
   "source": [
    "G_atten = nx.from_numpy_matrix(att_df)\n",
    "M = G_atten.number_of_edges()\n",
    "edge_colors = range(2, M + 2)"
   ],
   "metadata": {
    "collapsed": false,
    "ExecuteTime": {
     "start_time": "2023-10-20T07:05:50.436058200Z"
    }
   },
   "id": "7a2ed0701e23f6e8"
  },
  {
   "cell_type": "code",
   "execution_count": null,
   "outputs": [],
   "source": [
    "coor_df = pd.DataFrame(adata.obsm['spatial'].copy(), index=adata.obs_names)\n",
    "coor_df[1] = -1 * coor_df[1]\n",
    "image_pos = dict(zip(range(coor_df.shape[0]), [np.array(coor_df.iloc[it,]) for it in range(coor_df.shape[0])]))"
   ],
   "metadata": {
    "collapsed": false,
    "ExecuteTime": {
     "start_time": "2023-10-20T07:05:50.436058200Z"
    }
   },
   "id": "7ed52a6597d018c"
  },
  {
   "cell_type": "code",
   "execution_count": null,
   "outputs": [],
   "source": [
    "labels = nx.get_edge_attributes(G_atten,'weight')"
   ],
   "metadata": {
    "collapsed": false,
    "ExecuteTime": {
     "start_time": "2023-10-20T07:05:50.436058200Z"
    }
   },
   "id": "81c0c1ffe3d1e791"
  },
  {
   "cell_type": "code",
   "execution_count": null,
   "outputs": [],
   "source": [
    "fig, ax = plt.subplots(figsize=[9,10])\n",
    "nx.draw_networkx_nodes(G_atten, image_pos, node_size=5, ax=ax)\n",
    "cmap = plt.cm.plasma\n",
    "edges = nx.draw_networkx_edges(G_atten, image_pos, edge_color=labels.values(),width=4, ax=ax,\n",
    "                               edge_cmap=cmap,edge_vmax=0.25,edge_vmin=0.05)\n",
    "ax = plt.gca()\n",
    "\n",
    "sm = plt.cm.ScalarMappable(cmap=cmap, norm=plt.Normalize(vmin = 0.05, vmax=0.25))\n",
    "sm._A = []\n",
    "plt.colorbar(sm)\n",
    "\n",
    "ax.set_axis_off()\n"
   ],
   "metadata": {
    "collapsed": false,
    "ExecuteTime": {
     "start_time": "2023-10-20T07:05:50.436058200Z"
    }
   },
   "id": "743922460859681a"
  }
 ],
 "metadata": {
  "kernelspec": {
   "display_name": "Python 3",
   "language": "python",
   "name": "python3"
  },
  "language_info": {
   "codemirror_mode": {
    "name": "ipython",
    "version": 2
   },
   "file_extension": ".py",
   "mimetype": "text/x-python",
   "name": "python",
   "nbconvert_exporter": "python",
   "pygments_lexer": "ipython2",
   "version": "2.7.6"
  }
 },
 "nbformat": 4,
 "nbformat_minor": 5
}
